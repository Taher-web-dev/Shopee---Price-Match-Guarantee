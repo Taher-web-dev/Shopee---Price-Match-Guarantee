{
 "cells": [
  {
   "cell_type": "code",
   "execution_count": 1,
   "id": "worldwide-baltimore",
   "metadata": {
    "execution": {
     "iopub.execute_input": "2021-06-20T07:34:20.650169Z",
     "iopub.status.busy": "2021-06-20T07:34:20.649592Z",
     "iopub.status.idle": "2021-06-20T07:34:26.446501Z",
     "shell.execute_reply": "2021-06-20T07:34:26.445912Z",
     "shell.execute_reply.started": "2021-06-19T22:18:32.694297Z"
    },
    "papermill": {
     "duration": 5.827856,
     "end_time": "2021-06-20T07:34:26.446685",
     "exception": false,
     "start_time": "2021-06-20T07:34:20.618829",
     "status": "completed"
    },
    "tags": []
   },
   "outputs": [],
   "source": [
    "import numpy as np \n",
    "import pandas as pd \n",
    "import tensorflow as tf \n",
    "from tensorflow.keras.utils import Sequence\n",
    "from sklearn.preprocessing import LabelEncoder\n",
    "from sklearn.model_selection import train_test_split\n",
    "import math\n",
    "import os \n",
    "import cv2 as cv"
   ]
  },
  {
   "cell_type": "code",
   "execution_count": 2,
   "id": "corresponding-joseph",
   "metadata": {
    "execution": {
     "iopub.execute_input": "2021-06-20T07:34:26.488014Z",
     "iopub.status.busy": "2021-06-20T07:34:26.487334Z",
     "iopub.status.idle": "2021-06-20T07:34:26.489502Z",
     "shell.execute_reply": "2021-06-20T07:34:26.489913Z",
     "shell.execute_reply.started": "2021-06-19T22:18:38.513303Z"
    },
    "papermill": {
     "duration": 0.024223,
     "end_time": "2021-06-20T07:34:26.490042",
     "exception": false,
     "start_time": "2021-06-20T07:34:26.465819",
     "status": "completed"
    },
    "tags": []
   },
   "outputs": [],
   "source": [
    "#bucket_name = 'price-match-guarantee'\n",
    "#create_bucket(bucket_name)"
   ]
  },
  {
   "cell_type": "code",
   "execution_count": 3,
   "id": "practical-security",
   "metadata": {
    "execution": {
     "iopub.execute_input": "2021-06-20T07:34:26.532739Z",
     "iopub.status.busy": "2021-06-20T07:34:26.532132Z",
     "iopub.status.idle": "2021-06-20T07:34:26.540952Z",
     "shell.execute_reply": "2021-06-20T07:34:26.540462Z",
     "shell.execute_reply.started": "2021-06-19T22:18:38.518784Z"
    },
    "papermill": {
     "duration": 0.032739,
     "end_time": "2021-06-20T07:34:26.541062",
     "exception": false,
     "start_time": "2021-06-20T07:34:26.508323",
     "status": "completed"
    },
    "tags": []
   },
   "outputs": [
    {
     "name": "stdout",
     "output_type": "stream",
     "text": [
      "REPLICAS:  1\n"
     ]
    }
   ],
   "source": [
    "try:\n",
    "    # TPU detection. No parameters necessary if TPU_NAME environment variable is\n",
    "    # set: this is always the case on Kaggle.\n",
    "    tpu = tf.distribute.cluster_resolver.TPUClusterResolver()\n",
    "    print('Running on TPU ', tpu.master())\n",
    "except ValueError:\n",
    "    tpu = None\n",
    "\n",
    "if tpu:\n",
    "    tf.config.experimental_connect_to_cluster(tpu)\n",
    "    tf.tpu.experimental.initialize_tpu_system(tpu)\n",
    "    strategy = tf.distribute.TPUStrategy(tpu)\n",
    "else:\n",
    "    # Default distribution strategy in Tensorflow. Works on CPU and single GPU.\n",
    "    strategy = tf.distribute.get_strategy()\n",
    "\n",
    "print(\"REPLICAS: \", strategy.num_replicas_in_sync)"
   ]
  },
  {
   "cell_type": "code",
   "execution_count": 4,
   "id": "precise-tattoo",
   "metadata": {
    "execution": {
     "iopub.execute_input": "2021-06-20T07:34:26.581706Z",
     "iopub.status.busy": "2021-06-20T07:34:26.581084Z",
     "iopub.status.idle": "2021-06-20T07:34:26.583393Z",
     "shell.execute_reply": "2021-06-20T07:34:26.583834Z",
     "shell.execute_reply.started": "2021-06-19T22:18:38.540790Z"
    },
    "papermill": {
     "duration": 0.024277,
     "end_time": "2021-06-20T07:34:26.583958",
     "exception": false,
     "start_time": "2021-06-20T07:34:26.559681",
     "status": "completed"
    },
    "tags": []
   },
   "outputs": [],
   "source": [
    "EPOCHS = 16"
   ]
  },
  {
   "cell_type": "code",
   "execution_count": 5,
   "id": "unlikely-vanilla",
   "metadata": {
    "execution": {
     "iopub.execute_input": "2021-06-20T07:34:26.624838Z",
     "iopub.status.busy": "2021-06-20T07:34:26.624303Z",
     "iopub.status.idle": "2021-06-20T07:34:26.628055Z",
     "shell.execute_reply": "2021-06-20T07:34:26.627639Z",
     "shell.execute_reply.started": "2021-06-19T22:18:38.546226Z"
    },
    "papermill": {
     "duration": 0.025306,
     "end_time": "2021-06-20T07:34:26.628158",
     "exception": false,
     "start_time": "2021-06-20T07:34:26.602852",
     "status": "completed"
    },
    "tags": []
   },
   "outputs": [],
   "source": [
    "Batch_size = 8 * strategy.num_replicas_in_sync"
   ]
  },
  {
   "cell_type": "code",
   "execution_count": 6,
   "id": "breeding-henry",
   "metadata": {
    "execution": {
     "iopub.execute_input": "2021-06-20T07:34:26.669644Z",
     "iopub.status.busy": "2021-06-20T07:34:26.669113Z",
     "iopub.status.idle": "2021-06-20T07:34:26.803426Z",
     "shell.execute_reply": "2021-06-20T07:34:26.802507Z",
     "shell.execute_reply.started": "2021-06-19T22:18:38.554414Z"
    },
    "papermill": {
     "duration": 0.157048,
     "end_time": "2021-06-20T07:34:26.803561",
     "exception": false,
     "start_time": "2021-06-20T07:34:26.646513",
     "status": "completed"
    },
    "tags": []
   },
   "outputs": [],
   "source": [
    "test = pd.read_csv(\"../input/shopee-product-matching/train.csv\")"
   ]
  },
  {
   "cell_type": "code",
   "execution_count": 7,
   "id": "composed-slave",
   "metadata": {
    "execution": {
     "iopub.execute_input": "2021-06-20T07:34:26.855903Z",
     "iopub.status.busy": "2021-06-20T07:34:26.855078Z",
     "iopub.status.idle": "2021-06-20T07:34:26.863489Z",
     "shell.execute_reply": "2021-06-20T07:34:26.863916Z",
     "shell.execute_reply.started": "2021-06-19T22:18:38.745651Z"
    },
    "papermill": {
     "duration": 0.041456,
     "end_time": "2021-06-20T07:34:26.864044",
     "exception": false,
     "start_time": "2021-06-20T07:34:26.822588",
     "status": "completed"
    },
    "tags": []
   },
   "outputs": [
    {
     "data": {
      "text/html": [
       "<div>\n",
       "<style scoped>\n",
       "    .dataframe tbody tr th:only-of-type {\n",
       "        vertical-align: middle;\n",
       "    }\n",
       "\n",
       "    .dataframe tbody tr th {\n",
       "        vertical-align: top;\n",
       "    }\n",
       "\n",
       "    .dataframe thead th {\n",
       "        text-align: right;\n",
       "    }\n",
       "</style>\n",
       "<table border=\"1\" class=\"dataframe\">\n",
       "  <thead>\n",
       "    <tr style=\"text-align: right;\">\n",
       "      <th></th>\n",
       "      <th>posting_id</th>\n",
       "      <th>image</th>\n",
       "      <th>image_phash</th>\n",
       "      <th>title</th>\n",
       "      <th>label_group</th>\n",
       "    </tr>\n",
       "  </thead>\n",
       "  <tbody>\n",
       "    <tr>\n",
       "      <th>0</th>\n",
       "      <td>train_129225211</td>\n",
       "      <td>0000a68812bc7e98c42888dfb1c07da0.jpg</td>\n",
       "      <td>94974f937d4c2433</td>\n",
       "      <td>Paper Bag Victoria Secret</td>\n",
       "      <td>249114794</td>\n",
       "    </tr>\n",
       "    <tr>\n",
       "      <th>1</th>\n",
       "      <td>train_3386243561</td>\n",
       "      <td>00039780dfc94d01db8676fe789ecd05.jpg</td>\n",
       "      <td>af3f9460c2838f0f</td>\n",
       "      <td>Double Tape 3M VHB 12 mm x 4,5 m ORIGINAL / DO...</td>\n",
       "      <td>2937985045</td>\n",
       "    </tr>\n",
       "    <tr>\n",
       "      <th>2</th>\n",
       "      <td>train_2288590299</td>\n",
       "      <td>000a190fdd715a2a36faed16e2c65df7.jpg</td>\n",
       "      <td>b94cb00ed3e50f78</td>\n",
       "      <td>Maling TTS Canned Pork Luncheon Meat 397 gr</td>\n",
       "      <td>2395904891</td>\n",
       "    </tr>\n",
       "    <tr>\n",
       "      <th>3</th>\n",
       "      <td>train_2406599165</td>\n",
       "      <td>00117e4fc239b1b641ff08340b429633.jpg</td>\n",
       "      <td>8514fc58eafea283</td>\n",
       "      <td>Daster Batik Lengan pendek - Motif Acak / Camp...</td>\n",
       "      <td>4093212188</td>\n",
       "    </tr>\n",
       "    <tr>\n",
       "      <th>4</th>\n",
       "      <td>train_3369186413</td>\n",
       "      <td>00136d1cf4edede0203f32f05f660588.jpg</td>\n",
       "      <td>a6f319f924ad708c</td>\n",
       "      <td>Nescafe \\xc3\\x89clair Latte 220ml</td>\n",
       "      <td>3648931069</td>\n",
       "    </tr>\n",
       "  </tbody>\n",
       "</table>\n",
       "</div>"
      ],
      "text/plain": [
       "         posting_id                                 image       image_phash  \\\n",
       "0   train_129225211  0000a68812bc7e98c42888dfb1c07da0.jpg  94974f937d4c2433   \n",
       "1  train_3386243561  00039780dfc94d01db8676fe789ecd05.jpg  af3f9460c2838f0f   \n",
       "2  train_2288590299  000a190fdd715a2a36faed16e2c65df7.jpg  b94cb00ed3e50f78   \n",
       "3  train_2406599165  00117e4fc239b1b641ff08340b429633.jpg  8514fc58eafea283   \n",
       "4  train_3369186413  00136d1cf4edede0203f32f05f660588.jpg  a6f319f924ad708c   \n",
       "\n",
       "                                               title  label_group  \n",
       "0                          Paper Bag Victoria Secret    249114794  \n",
       "1  Double Tape 3M VHB 12 mm x 4,5 m ORIGINAL / DO...   2937985045  \n",
       "2        Maling TTS Canned Pork Luncheon Meat 397 gr   2395904891  \n",
       "3  Daster Batik Lengan pendek - Motif Acak / Camp...   4093212188  \n",
       "4                  Nescafe \\xc3\\x89clair Latte 220ml   3648931069  "
      ]
     },
     "execution_count": 7,
     "metadata": {},
     "output_type": "execute_result"
    }
   ],
   "source": [
    "test.head()"
   ]
  },
  {
   "cell_type": "code",
   "execution_count": 8,
   "id": "architectural-fishing",
   "metadata": {
    "execution": {
     "iopub.execute_input": "2021-06-20T07:34:26.907483Z",
     "iopub.status.busy": "2021-06-20T07:34:26.906702Z",
     "iopub.status.idle": "2021-06-20T07:34:26.910270Z",
     "shell.execute_reply": "2021-06-20T07:34:26.909862Z",
     "shell.execute_reply.started": "2021-06-19T22:18:38.774816Z"
    },
    "papermill": {
     "duration": 0.027704,
     "end_time": "2021-06-20T07:34:26.910375",
     "exception": false,
     "start_time": "2021-06-20T07:34:26.882671",
     "status": "completed"
    },
    "tags": []
   },
   "outputs": [],
   "source": [
    "N_classes = test.label_group.nunique()\n",
    "path_image = \"../input/shopee-product-matching/train_images\""
   ]
  },
  {
   "cell_type": "code",
   "execution_count": 9,
   "id": "remarkable-object",
   "metadata": {
    "execution": {
     "iopub.execute_input": "2021-06-20T07:34:26.951511Z",
     "iopub.status.busy": "2021-06-20T07:34:26.950761Z",
     "iopub.status.idle": "2021-06-20T07:34:26.958727Z",
     "shell.execute_reply": "2021-06-20T07:34:26.958324Z",
     "shell.execute_reply.started": "2021-06-19T22:18:38.783946Z"
    },
    "papermill": {
     "duration": 0.02975,
     "end_time": "2021-06-20T07:34:26.958831",
     "exception": false,
     "start_time": "2021-06-20T07:34:26.929081",
     "status": "completed"
    },
    "tags": []
   },
   "outputs": [],
   "source": [
    "lb = LabelEncoder()\n",
    "test[\"encoded_label_group\"] = lb.fit_transform(test[\"label_group\"].values)"
   ]
  },
  {
   "cell_type": "code",
   "execution_count": 10,
   "id": "electronic-fundamental",
   "metadata": {
    "execution": {
     "iopub.execute_input": "2021-06-20T07:34:27.001249Z",
     "iopub.status.busy": "2021-06-20T07:34:27.000521Z",
     "iopub.status.idle": "2021-06-20T07:34:27.003173Z",
     "shell.execute_reply": "2021-06-20T07:34:27.002765Z",
     "shell.execute_reply.started": "2021-06-19T22:18:38.801002Z"
    },
    "papermill": {
     "duration": 0.025859,
     "end_time": "2021-06-20T07:34:27.003277",
     "exception": false,
     "start_time": "2021-06-20T07:34:26.977418",
     "status": "completed"
    },
    "tags": []
   },
   "outputs": [],
   "source": [
    "img_size = 512"
   ]
  },
  {
   "cell_type": "code",
   "execution_count": 11,
   "id": "functioning-married",
   "metadata": {
    "execution": {
     "iopub.execute_input": "2021-06-20T07:34:27.051150Z",
     "iopub.status.busy": "2021-06-20T07:34:27.050455Z",
     "iopub.status.idle": "2021-06-20T07:34:27.053108Z",
     "shell.execute_reply": "2021-06-20T07:34:27.052724Z",
     "shell.execute_reply.started": "2021-06-19T22:18:38.806763Z"
    },
    "papermill": {
     "duration": 0.031368,
     "end_time": "2021-06-20T07:34:27.053207",
     "exception": false,
     "start_time": "2021-06-20T07:34:27.021839",
     "status": "completed"
    },
    "tags": []
   },
   "outputs": [],
   "source": [
    "class Datagenerator(Sequence):\n",
    "     def __init__(self,batch_size = Batch_size ,path=path_image,listID = None,\\\n",
    "                  shuffle=True,img_size=img_size):\n",
    "         self.batch_size = batch_size \n",
    "         self.path = path \n",
    "         self.listID = listID\n",
    "         self.shuffle = shuffle\n",
    "         self.img_size = img_size\n",
    "         self.on_epoch_end()\n",
    "         \n",
    "     def __len__(self):\n",
    "         l = len(self.listID) // self.batch_size\n",
    "         l += int((len(self.listID) % self.batch_size) !=0)\n",
    "         return l \n",
    "     def on_epoch_end(self):\n",
    "         self.indexes = np.arange(len(self.listID))\n",
    "         if self.shuffle :\n",
    "            np.random.shuffle(self.indexes)\n",
    "     def __getitem__(self,index):\n",
    "         indices = self.indexes[index * self.batch_size:(index+1) * self.batch_size]\n",
    "         list_ID_temp = [self.listID[k] for k in indices]\n",
    "         X,Y = self.__datageneration(list_ID_temp)\n",
    "         X = X,Y\n",
    "         Y = Y\n",
    "         return X,Y\n",
    "     def __datageneration(self,list_id):\n",
    "         image = np.zeros((len(list_id),self.img_size,self.img_size,3),dtype=np.float)\n",
    "         df = test.iloc[list_id]\n",
    "         y = np.zeros((len(list_id)),dtype=int)\n",
    "         for i , (j ,row) in enumerate(df.iterrows()):\n",
    "             img = row.image\n",
    "             img = os.path.join(self.path,img)\n",
    "             img = cv.imread(img)\n",
    "             img = cv.resize(img,(self.img_size,self.img_size))\n",
    "             image[i,] = img \n",
    "             y[i] = row.encoded_label_group\n",
    "         return image,y\n",
    "         "
   ]
  },
  {
   "cell_type": "code",
   "execution_count": 12,
   "id": "continental-newman",
   "metadata": {
    "execution": {
     "iopub.execute_input": "2021-06-20T07:34:27.095024Z",
     "iopub.status.busy": "2021-06-20T07:34:27.094213Z",
     "iopub.status.idle": "2021-06-20T07:34:27.277028Z",
     "shell.execute_reply": "2021-06-20T07:34:27.276588Z",
     "shell.execute_reply.started": "2021-06-19T22:18:38.822522Z"
    },
    "papermill": {
     "duration": 0.205274,
     "end_time": "2021-06-20T07:34:27.277145",
     "exception": false,
     "start_time": "2021-06-20T07:34:27.071871",
     "status": "completed"
    },
    "tags": []
   },
   "outputs": [],
   "source": [
    "tr_ind,ts_ind,tr_lab,ts_lab = train_test_split(test.index,test.encoded_label_group.values,\\\n",
    "                                               test_size=0.33,stratify=test.encoded_label_group.values)"
   ]
  },
  {
   "cell_type": "code",
   "execution_count": 13,
   "id": "surprising-array",
   "metadata": {
    "execution": {
     "iopub.execute_input": "2021-06-20T07:34:27.318850Z",
     "iopub.status.busy": "2021-06-20T07:34:27.318178Z",
     "iopub.status.idle": "2021-06-20T07:34:27.320442Z",
     "shell.execute_reply": "2021-06-20T07:34:27.320847Z",
     "shell.execute_reply.started": "2021-06-19T22:18:39.019851Z"
    },
    "papermill": {
     "duration": 0.025119,
     "end_time": "2021-06-20T07:34:27.320971",
     "exception": false,
     "start_time": "2021-06-20T07:34:27.295852",
     "status": "completed"
    },
    "tags": []
   },
   "outputs": [],
   "source": [
    "train_data = Datagenerator(listID=tr_ind)\n",
    "val_data = Datagenerator(listID=ts_ind)"
   ]
  },
  {
   "cell_type": "code",
   "execution_count": 14,
   "id": "standard-assignment",
   "metadata": {
    "execution": {
     "iopub.execute_input": "2021-06-20T07:34:27.371068Z",
     "iopub.status.busy": "2021-06-20T07:34:27.370361Z",
     "iopub.status.idle": "2021-06-20T07:34:27.372829Z",
     "shell.execute_reply": "2021-06-20T07:34:27.372428Z",
     "shell.execute_reply.started": "2021-06-19T22:18:39.026937Z"
    },
    "papermill": {
     "duration": 0.033424,
     "end_time": "2021-06-20T07:34:27.372938",
     "exception": false,
     "start_time": "2021-06-20T07:34:27.339514",
     "status": "completed"
    },
    "tags": []
   },
   "outputs": [],
   "source": [
    "class ArcMarginProduct(tf.keras.layers.Layer):\n",
    "    '''\n",
    "    Implements large margin arc distance.\n",
    "\n",
    "    Reference:\n",
    "        https://arxiv.org/pdf/1801.07698.pdf\n",
    "        https://github.com/lyakaap/Landmark2019-1st-and-3rd-Place-Solution/\n",
    "            blob/master/src/modeling/metric_learning.py\n",
    "    '''\n",
    "    def __init__(self, n_classes, s=30, m=0.50, easy_margin=False,\n",
    "                 ls_eps=0.0, **kwargs):\n",
    "\n",
    "        super(ArcMarginProduct, self).__init__(**kwargs)\n",
    "\n",
    "        self.n_classes = n_classes\n",
    "        self.s = s\n",
    "        self.m = m\n",
    "        self.ls_eps = ls_eps\n",
    "        self.easy_margin = easy_margin\n",
    "        self.cos_m = tf.math.cos(m)\n",
    "        self.sin_m = tf.math.sin(m)\n",
    "        self.th = tf.math.cos(math.pi - m)\n",
    "        self.mm = tf.math.sin(math.pi - m) * m\n",
    "\n",
    "    def get_config(self):\n",
    "\n",
    "        config = super().get_config().copy()\n",
    "        config.update({\n",
    "            'n_classes': self.n_classes,\n",
    "            's': self.s,\n",
    "            'm': self.m,\n",
    "            'ls_eps': self.ls_eps,\n",
    "            'easy_margin': self.easy_margin,\n",
    "        })\n",
    "        return config\n",
    "\n",
    "    def build(self, input_shape):\n",
    "        super(ArcMarginProduct, self).build(input_shape[0])\n",
    "\n",
    "        self.W = self.add_weight(\n",
    "            name='W',\n",
    "            shape=(int(input_shape[0][-1]), self.n_classes),\n",
    "            initializer='glorot_uniform',\n",
    "            dtype='float32',\n",
    "            trainable=True,\n",
    "            regularizer=None)\n",
    "\n",
    "    def call(self, inputs):\n",
    "        X, y = inputs\n",
    "        y = tf.cast(y, dtype=tf.int32)\n",
    "        cosine = tf.matmul(\n",
    "            tf.math.l2_normalize(X, axis=1),\n",
    "            tf.math.l2_normalize(self.W, axis=0)\n",
    "        )\n",
    "        sine = tf.math.sqrt(1.0 - tf.math.pow(cosine, 2))\n",
    "        phi = cosine * self.cos_m - sine * self.sin_m\n",
    "        if self.easy_margin:\n",
    "            phi = tf.where(cosine > 0, phi, cosine)\n",
    "        else:\n",
    "            phi = tf.where(cosine > self.th, phi, cosine - self.mm)\n",
    "        one_hot = tf.cast(\n",
    "            tf.one_hot(y, depth=self.n_classes),\n",
    "            dtype=cosine.dtype\n",
    "        )\n",
    "        if self.ls_eps > 0:\n",
    "            one_hot = (1 - self.ls_eps) * one_hot + self.ls_eps / self.n_classes\n",
    "\n",
    "        output = (one_hot * phi) + ((1.0 - one_hot) * cosine)\n",
    "        output *= self.s\n",
    "        return output"
   ]
  },
  {
   "cell_type": "code",
   "execution_count": 15,
   "id": "recognized-isolation",
   "metadata": {
    "execution": {
     "iopub.execute_input": "2021-06-20T07:34:27.415578Z",
     "iopub.status.busy": "2021-06-20T07:34:27.414883Z",
     "iopub.status.idle": "2021-06-20T07:34:27.417432Z",
     "shell.execute_reply": "2021-06-20T07:34:27.417052Z",
     "shell.execute_reply.started": "2021-06-19T22:18:39.045677Z"
    },
    "papermill": {
     "duration": 0.026075,
     "end_time": "2021-06-20T07:34:27.417529",
     "exception": false,
     "start_time": "2021-06-20T07:34:27.391454",
     "status": "completed"
    },
    "tags": []
   },
   "outputs": [],
   "source": [
    "def get_lr_callback():\n",
    "    lr_start   = 0.000001\n",
    "    lr_max     = 0.000005 * Batch_size\n",
    "    lr_min     = 0.000001\n",
    "    lr_ramp_ep = 5\n",
    "    lr_sus_ep  = 0\n",
    "    lr_decay   = 0.8\n",
    "   \n",
    "    def lrfn(epoch):\n",
    "        if epoch < lr_ramp_ep:\n",
    "            lr = (lr_max - lr_start) / lr_ramp_ep * epoch + lr_start   \n",
    "        elif epoch < lr_ramp_ep + lr_sus_ep:\n",
    "            lr = lr_max    \n",
    "        else:\n",
    "            lr = (lr_max - lr_min) * lr_decay**(epoch - lr_ramp_ep - lr_sus_ep) + lr_min    \n",
    "        return lr\n",
    "\n",
    "    lr_callback = tf.keras.callbacks.LearningRateScheduler(lrfn, verbose = True)\n",
    "    return lr_callback\n"
   ]
  },
  {
   "cell_type": "code",
   "execution_count": 16,
   "id": "mysterious-monitoring",
   "metadata": {
    "execution": {
     "iopub.execute_input": "2021-06-20T07:34:27.458576Z",
     "iopub.status.busy": "2021-06-20T07:34:27.457945Z",
     "iopub.status.idle": "2021-06-20T07:34:27.460644Z",
     "shell.execute_reply": "2021-06-20T07:34:27.460142Z",
     "shell.execute_reply.started": "2021-06-19T22:18:39.055292Z"
    },
    "papermill": {
     "duration": 0.024745,
     "end_time": "2021-06-20T07:34:27.460750",
     "exception": false,
     "start_time": "2021-06-20T07:34:27.436005",
     "status": "completed"
    },
    "tags": []
   },
   "outputs": [],
   "source": [
    "def _regularizer(weights_decay=5e-4):\n",
    "    return tf.keras.regularizers.l2(weights_decay)"
   ]
  },
  {
   "cell_type": "code",
   "execution_count": 17,
   "id": "buried-sterling",
   "metadata": {
    "execution": {
     "iopub.execute_input": "2021-06-20T07:34:27.505889Z",
     "iopub.status.busy": "2021-06-20T07:34:27.505198Z",
     "iopub.status.idle": "2021-06-20T07:34:27.507361Z",
     "shell.execute_reply": "2021-06-20T07:34:27.507729Z",
     "shell.execute_reply.started": "2021-06-19T22:19:39.509619Z"
    },
    "papermill": {
     "duration": 0.028626,
     "end_time": "2021-06-20T07:34:27.507843",
     "exception": false,
     "start_time": "2021-06-20T07:34:27.479217",
     "status": "completed"
    },
    "tags": []
   },
   "outputs": [],
   "source": [
    "\n",
    "def build_model(N_classes,training=False,emb_size = 256,w_decay=5e-4):\n",
    "    with strategy.scope():\n",
    "        input_image = tf.keras.layers.Input(shape=(img_size,img_size,3),name=\"input_image\")\n",
    "        base_model = tf.keras.applications.EfficientNetB3(weights=\"imagenet\",include_top=False,\\\n",
    "                                                 input_shape=(img_size,img_size,3),pooling=\"avg\")\n",
    "        base_model.trainable = True\n",
    "        x = base_model(input_image)\n",
    "        #x = tf.keras.layers.GlobalAveragePooling2D()(x)\n",
    "        emb = tf.keras.layers.BatchNormalization()(x)\n",
    "        if training :\n",
    "            margin = ArcMarginProduct(\n",
    "            n_classes = N_classes, \n",
    "            s = 30, \n",
    "            m = 0.5, \n",
    "            name='head/arc_margin', \n",
    "            dtype='float32'\n",
    "            )\n",
    "            y = tf.keras.layers.Input(shape=(),name=\"labels\")\n",
    "            logits = margin([emb,y])\n",
    "            logits = tf.keras.layers.Softmax()(logits)\n",
    "            return tf.keras.models.Model((input_image,y),logits)\n",
    "        else :\n",
    "            return tf.keras.models.Model(input_image,emb)"
   ]
  },
  {
   "cell_type": "code",
   "execution_count": 18,
   "id": "twenty-serum",
   "metadata": {
    "execution": {
     "iopub.execute_input": "2021-06-20T07:34:27.548798Z",
     "iopub.status.busy": "2021-06-20T07:34:27.548264Z",
     "iopub.status.idle": "2021-06-20T07:34:33.772536Z",
     "shell.execute_reply": "2021-06-20T07:34:33.772032Z",
     "shell.execute_reply.started": "2021-06-19T22:19:45.058413Z"
    },
    "papermill": {
     "duration": 6.245898,
     "end_time": "2021-06-20T07:34:33.772687",
     "exception": false,
     "start_time": "2021-06-20T07:34:27.526789",
     "status": "completed"
    },
    "tags": []
   },
   "outputs": [
    {
     "name": "stdout",
     "output_type": "stream",
     "text": [
      "Downloading data from https://storage.googleapis.com/keras-applications/efficientnetb3_notop.h5\n",
      "43941888/43941136 [==============================] - 0s 0us/step\n"
     ]
    }
   ],
   "source": [
    "md = build_model(N_classes,training=True)"
   ]
  },
  {
   "cell_type": "code",
   "execution_count": 19,
   "id": "arranged-reviewer",
   "metadata": {
    "execution": {
     "iopub.execute_input": "2021-06-20T07:34:33.841985Z",
     "iopub.status.busy": "2021-06-20T07:34:33.828303Z",
     "iopub.status.idle": "2021-06-20T07:34:33.845085Z",
     "shell.execute_reply": "2021-06-20T07:34:33.845490Z",
     "shell.execute_reply.started": "2021-06-19T22:19:53.817892Z"
    },
    "papermill": {
     "duration": 0.051702,
     "end_time": "2021-06-20T07:34:33.845632",
     "exception": false,
     "start_time": "2021-06-20T07:34:33.793930",
     "status": "completed"
    },
    "tags": []
   },
   "outputs": [
    {
     "name": "stdout",
     "output_type": "stream",
     "text": [
      "Model: \"model\"\n",
      "__________________________________________________________________________________________________\n",
      "Layer (type)                    Output Shape         Param #     Connected to                     \n",
      "==================================================================================================\n",
      "input_image (InputLayer)        [(None, 512, 512, 3) 0                                            \n",
      "__________________________________________________________________________________________________\n",
      "efficientnetb3 (Functional)     (None, 1536)         10783535    input_image[0][0]                \n",
      "__________________________________________________________________________________________________\n",
      "batch_normalization (BatchNorma (None, 1536)         6144        efficientnetb3[0][0]             \n",
      "__________________________________________________________________________________________________\n",
      "labels (InputLayer)             [(None,)]            0                                            \n",
      "__________________________________________________________________________________________________\n",
      "head/arc_margin (ArcMarginProdu (None, 11014)        16917504    batch_normalization[0][0]        \n",
      "                                                                 labels[0][0]                     \n",
      "__________________________________________________________________________________________________\n",
      "softmax (Softmax)               (None, 11014)        0           head/arc_margin[0][0]            \n",
      "==================================================================================================\n",
      "Total params: 27,707,183\n",
      "Trainable params: 27,616,808\n",
      "Non-trainable params: 90,375\n",
      "__________________________________________________________________________________________________\n"
     ]
    }
   ],
   "source": [
    "md.summary()"
   ]
  },
  {
   "cell_type": "code",
   "execution_count": 20,
   "id": "massive-focus",
   "metadata": {
    "execution": {
     "iopub.execute_input": "2021-06-20T07:34:33.901378Z",
     "iopub.status.busy": "2021-06-20T07:34:33.900618Z",
     "iopub.status.idle": "2021-06-20T07:34:33.912352Z",
     "shell.execute_reply": "2021-06-20T07:34:33.911970Z",
     "shell.execute_reply.started": "2021-06-19T22:20:00.880362Z"
    },
    "papermill": {
     "duration": 0.0459,
     "end_time": "2021-06-20T07:34:33.912473",
     "exception": false,
     "start_time": "2021-06-20T07:34:33.866573",
     "status": "completed"
    },
    "tags": []
   },
   "outputs": [],
   "source": [
    "md.compile(optimizer=tf.keras.optimizers.Adam(1e-5),loss=[tf.keras.losses.SparseCategoricalCrossentropy()],metrics=\"accuracy\")"
   ]
  },
  {
   "cell_type": "code",
   "execution_count": 21,
   "id": "bound-coast",
   "metadata": {
    "execution": {
     "iopub.execute_input": "2021-06-20T07:34:33.964246Z",
     "iopub.status.busy": "2021-06-20T07:34:33.963480Z",
     "iopub.status.idle": "2021-06-20T07:34:33.976296Z",
     "shell.execute_reply": "2021-06-20T07:34:33.976732Z"
    },
    "papermill": {
     "duration": 0.04295,
     "end_time": "2021-06-20T07:34:33.976918",
     "exception": false,
     "start_time": "2021-06-20T07:34:33.933968",
     "status": "completed"
    },
    "tags": []
   },
   "outputs": [],
   "source": [
    "#checkpoints = tf.keras.callbacks.ModelCheckpoint(f\"effnet.b3\",monitor=\"val_loss\",\\\n",
    "                                                 #save_best_only=True,save_weights_only=True,\\\n",
    "                                                 #mode=\"min\",verbose=1)"
   ]
  },
  {
   "cell_type": "code",
   "execution_count": 22,
   "id": "selected-success",
   "metadata": {
    "execution": {
     "iopub.execute_input": "2021-06-20T07:34:34.057326Z",
     "iopub.status.busy": "2021-06-20T07:34:34.055062Z",
     "iopub.status.idle": "2021-06-20T15:38:24.536296Z",
     "shell.execute_reply": "2021-06-20T15:38:24.535828Z",
     "shell.execute_reply.started": "2021-06-19T22:20:04.961277Z"
    },
    "papermill": {
     "duration": 29030.521892,
     "end_time": "2021-06-20T15:38:24.536421",
     "exception": false,
     "start_time": "2021-06-20T07:34:34.014529",
     "status": "completed"
    },
    "tags": []
   },
   "outputs": [
    {
     "name": "stdout",
     "output_type": "stream",
     "text": [
      "Epoch 1/16\n",
      "\n",
      "Epoch 00001: LearningRateScheduler reducing learning rate to 1e-06.\n",
      "2869/2869 [==============================] - 1874s 647ms/step - loss: 23.9441 - accuracy: 0.0000e+00 - val_loss: 23.8844 - val_accuracy: 0.0000e+00\n",
      "Epoch 2/16\n",
      "\n",
      "Epoch 00002: LearningRateScheduler reducing learning rate to 8.800000000000002e-06.\n",
      "2869/2869 [==============================] - 1817s 633ms/step - loss: 23.7788 - accuracy: 0.0000e+00 - val_loss: 23.3892 - val_accuracy: 0.0000e+00\n",
      "Epoch 3/16\n",
      "\n",
      "Epoch 00003: LearningRateScheduler reducing learning rate to 1.6600000000000004e-05.\n",
      "2869/2869 [==============================] - 1795s 625ms/step - loss: 23.0399 - accuracy: 0.0000e+00 - val_loss: 22.4266 - val_accuracy: 0.0000e+00\n",
      "Epoch 4/16\n",
      "\n",
      "Epoch 00004: LearningRateScheduler reducing learning rate to 2.4400000000000007e-05.\n",
      "2869/2869 [==============================] - 1812s 631ms/step - loss: 21.7186 - accuracy: 0.0000e+00 - val_loss: 21.0593 - val_accuracy: 0.0000e+00\n",
      "Epoch 5/16\n",
      "\n",
      "Epoch 00005: LearningRateScheduler reducing learning rate to 3.2200000000000003e-05.\n",
      "2869/2869 [==============================] - 1811s 631ms/step - loss: 19.9866 - accuracy: 0.0012 - val_loss: 19.4946 - val_accuracy: 0.0113\n",
      "Epoch 6/16\n",
      "\n",
      "Epoch 00006: LearningRateScheduler reducing learning rate to 4e-05.\n",
      "2869/2869 [==============================] - 1802s 628ms/step - loss: 18.0067 - accuracy: 0.0144 - val_loss: 17.9167 - val_accuracy: 0.0388\n",
      "Epoch 7/16\n",
      "\n",
      "Epoch 00007: LearningRateScheduler reducing learning rate to 3.2200000000000003e-05.\n",
      "2869/2869 [==============================] - 1805s 629ms/step - loss: 15.9209 - accuracy: 0.0404 - val_loss: 16.8041 - val_accuracy: 0.0614\n",
      "Epoch 8/16\n",
      "\n",
      "Epoch 00008: LearningRateScheduler reducing learning rate to 2.596000000000001e-05.\n",
      "2869/2869 [==============================] - 1811s 631ms/step - loss: 14.4965 - accuracy: 0.0611 - val_loss: 16.0057 - val_accuracy: 0.0839\n",
      "Epoch 9/16\n",
      "\n",
      "Epoch 00009: LearningRateScheduler reducing learning rate to 2.096800000000001e-05.\n",
      "2869/2869 [==============================] - 1812s 632ms/step - loss: 13.2879 - accuracy: 0.0850 - val_loss: 15.4398 - val_accuracy: 0.1032\n",
      "Epoch 10/16\n",
      "\n",
      "Epoch 00010: LearningRateScheduler reducing learning rate to 1.6974400000000005e-05.\n",
      "2869/2869 [==============================] - 1817s 633ms/step - loss: 12.4259 - accuracy: 0.1008 - val_loss: 15.0168 - val_accuracy: 0.1209\n",
      "Epoch 11/16\n",
      "\n",
      "Epoch 00011: LearningRateScheduler reducing learning rate to 1.3779520000000006e-05.\n",
      "2869/2869 [==============================] - 1810s 631ms/step - loss: 11.8366 - accuracy: 0.1170 - val_loss: 14.7016 - val_accuracy: 0.1327\n",
      "Epoch 12/16\n",
      "\n",
      "Epoch 00012: LearningRateScheduler reducing learning rate to 1.1223616000000006e-05.\n",
      "2869/2869 [==============================] - 1813s 632ms/step - loss: 11.2877 - accuracy: 0.1382 - val_loss: 14.4519 - val_accuracy: 0.1433\n",
      "Epoch 13/16\n",
      "\n",
      "Epoch 00013: LearningRateScheduler reducing learning rate to 9.178892800000006e-06.\n",
      "2869/2869 [==============================] - 1808s 630ms/step - loss: 10.9354 - accuracy: 0.1510 - val_loss: 14.2546 - val_accuracy: 0.1513\n",
      "Epoch 14/16\n",
      "\n",
      "Epoch 00014: LearningRateScheduler reducing learning rate to 7.543114240000004e-06.\n",
      "2869/2869 [==============================] - 1807s 630ms/step - loss: 10.5864 - accuracy: 0.1588 - val_loss: 14.0999 - val_accuracy: 0.1570\n",
      "Epoch 15/16\n",
      "\n",
      "Epoch 00015: LearningRateScheduler reducing learning rate to 6.234491392000003e-06.\n",
      "2869/2869 [==============================] - 1815s 633ms/step - loss: 10.3812 - accuracy: 0.1695 - val_loss: 13.9773 - val_accuracy: 0.1608\n",
      "Epoch 16/16\n",
      "\n",
      "Epoch 00016: LearningRateScheduler reducing learning rate to 5.1875931136000026e-06.\n",
      "2869/2869 [==============================] - 1808s 630ms/step - loss: 10.1180 - accuracy: 0.1745 - val_loss: 13.8823 - val_accuracy: 0.1642\n"
     ]
    },
    {
     "data": {
      "text/plain": [
       "<tensorflow.python.keras.callbacks.History at 0x7f2a5970ff50>"
      ]
     },
     "execution_count": 22,
     "metadata": {},
     "output_type": "execute_result"
    }
   ],
   "source": [
    "steps_per_epoch = len(tr_ind) // Batch_size\n",
    "\n",
    "\n",
    "val_steps_per_epoch = len(ts_ind) // Batch_size\n",
    "md.fit(train_data,epochs= EPOCHS,validation_data=val_data,\\\n",
    "      callbacks=[get_lr_callback()])"
   ]
  },
  {
   "cell_type": "code",
   "execution_count": 23,
   "id": "verified-imperial",
   "metadata": {
    "execution": {
     "iopub.execute_input": "2021-06-20T15:38:48.747624Z",
     "iopub.status.busy": "2021-06-20T15:38:48.746824Z",
     "iopub.status.idle": "2021-06-20T15:39:44.289621Z",
     "shell.execute_reply": "2021-06-20T15:39:44.289066Z",
     "shell.execute_reply.started": "2021-06-20T06:22:46.844300Z"
    },
    "papermill": {
     "duration": 67.829275,
     "end_time": "2021-06-20T15:39:44.289750",
     "exception": false,
     "start_time": "2021-06-20T15:38:36.460475",
     "status": "completed"
    },
    "tags": []
   },
   "outputs": [],
   "source": [
    "md.save(\"model\")"
   ]
  },
  {
   "cell_type": "code",
   "execution_count": 24,
   "id": "alleged-values",
   "metadata": {
    "execution": {
     "iopub.execute_input": "2021-06-20T15:40:08.316878Z",
     "iopub.status.busy": "2021-06-20T15:40:08.315332Z",
     "iopub.status.idle": "2021-06-20T15:40:08.317690Z",
     "shell.execute_reply": "2021-06-20T15:40:08.318088Z",
     "shell.execute_reply.started": "2021-06-20T06:23:42.513348Z"
    },
    "papermill": {
     "duration": 11.852991,
     "end_time": "2021-06-20T15:40:08.318223",
     "exception": false,
     "start_time": "2021-06-20T15:39:56.465232",
     "status": "completed"
    },
    "tags": []
   },
   "outputs": [],
   "source": [
    "def get_layer_index(model, layer_name, not_found=None):\n",
    "    \"\"\"get model's layer index by layer's name\"\"\"\n",
    "    for i, layer in enumerate(model.layers):\n",
    "        if layer.name == layer_name:\n",
    "            return i\n",
    "    return not_found"
   ]
  },
  {
   "cell_type": "code",
   "execution_count": 25,
   "id": "varied-membership",
   "metadata": {
    "execution": {
     "iopub.execute_input": "2021-06-20T15:40:32.744278Z",
     "iopub.status.busy": "2021-06-20T15:40:32.742423Z",
     "iopub.status.idle": "2021-06-20T15:40:32.748587Z",
     "shell.execute_reply": "2021-06-20T15:40:32.748192Z",
     "shell.execute_reply.started": "2021-06-20T06:23:42.543785Z"
    },
    "papermill": {
     "duration": 11.81307,
     "end_time": "2021-06-20T15:40:32.748720",
     "exception": false,
     "start_time": "2021-06-20T15:40:20.935650",
     "status": "completed"
    },
    "tags": []
   },
   "outputs": [
    {
     "name": "stdout",
     "output_type": "stream",
     "text": [
      "Model: \"model\"\n",
      "__________________________________________________________________________________________________\n",
      "Layer (type)                    Output Shape         Param #     Connected to                     \n",
      "==================================================================================================\n",
      "input_image (InputLayer)        [(None, 512, 512, 3) 0                                            \n",
      "__________________________________________________________________________________________________\n",
      "efficientnetb3 (Functional)     (None, 1536)         10783535    input_image[0][0]                \n",
      "__________________________________________________________________________________________________\n",
      "batch_normalization (BatchNorma (None, 1536)         6144        efficientnetb3[0][0]             \n",
      "__________________________________________________________________________________________________\n",
      "labels (InputLayer)             [(None,)]            0                                            \n",
      "__________________________________________________________________________________________________\n",
      "head/arc_margin (ArcMarginProdu (None, 11014)        16917504    batch_normalization[0][0]        \n",
      "                                                                 labels[0][0]                     \n",
      "__________________________________________________________________________________________________\n",
      "softmax (Softmax)               (None, 11014)        0           head/arc_margin[0][0]            \n",
      "==================================================================================================\n",
      "Total params: 27,707,183\n",
      "Trainable params: 27,616,808\n",
      "Non-trainable params: 90,375\n",
      "__________________________________________________________________________________________________\n"
     ]
    }
   ],
   "source": [
    "md.summary()"
   ]
  },
  {
   "cell_type": "code",
   "execution_count": 26,
   "id": "south-bolivia",
   "metadata": {
    "execution": {
     "iopub.execute_input": "2021-06-20T15:40:57.135141Z",
     "iopub.status.busy": "2021-06-20T15:40:57.134195Z",
     "iopub.status.idle": "2021-06-20T15:40:57.167731Z",
     "shell.execute_reply": "2021-06-20T15:40:57.168457Z",
     "shell.execute_reply.started": "2021-06-20T06:23:42.580973Z"
    },
    "papermill": {
     "duration": 12.44826,
     "end_time": "2021-06-20T15:40:57.168709",
     "exception": false,
     "start_time": "2021-06-20T15:40:44.720449",
     "status": "completed"
    },
    "tags": []
   },
   "outputs": [],
   "source": [
    "model = tf.keras.models.Model(inputs=md.layers[-5].input, outputs=md.layers[-5].output)"
   ]
  },
  {
   "cell_type": "code",
   "execution_count": 27,
   "id": "fiscal-miniature",
   "metadata": {
    "execution": {
     "iopub.execute_input": "2021-06-20T15:41:20.990814Z",
     "iopub.status.busy": "2021-06-20T15:41:20.990029Z",
     "iopub.status.idle": "2021-06-20T15:42:06.578575Z",
     "shell.execute_reply": "2021-06-20T15:42:06.578094Z",
     "shell.execute_reply.started": "2021-06-20T06:23:42.608395Z"
    },
    "papermill": {
     "duration": 57.405666,
     "end_time": "2021-06-20T15:42:06.578711",
     "exception": false,
     "start_time": "2021-06-20T15:41:09.173045",
     "status": "completed"
    },
    "tags": []
   },
   "outputs": [],
   "source": [
    "model.save(\"embadding_arcface\")"
   ]
  }
 ],
 "metadata": {
  "kernelspec": {
   "display_name": "Python 3",
   "language": "python",
   "name": "python3"
  },
  "language_info": {
   "codemirror_mode": {
    "name": "ipython",
    "version": 3
   },
   "file_extension": ".py",
   "mimetype": "text/x-python",
   "name": "python",
   "nbconvert_exporter": "python",
   "pygments_lexer": "ipython3",
   "version": "3.7.10"
  },
  "papermill": {
   "default_parameters": {},
   "duration": 29288.047891,
   "end_time": "2021-06-20T15:42:21.783044",
   "environment_variables": {},
   "exception": null,
   "input_path": "__notebook__.ipynb",
   "output_path": "__notebook__.ipynb",
   "parameters": {},
   "start_time": "2021-06-20T07:34:13.735153",
   "version": "2.3.3"
  }
 },
 "nbformat": 4,
 "nbformat_minor": 5
}
