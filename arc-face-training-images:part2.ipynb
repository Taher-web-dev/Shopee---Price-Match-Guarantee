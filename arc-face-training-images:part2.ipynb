{
 "cells": [
  {
   "cell_type": "code",
   "execution_count": 1,
   "id": "reported-malaysia",
   "metadata": {
    "execution": {
     "iopub.execute_input": "2021-06-28T06:51:16.704753Z",
     "iopub.status.busy": "2021-06-28T06:51:16.704099Z",
     "iopub.status.idle": "2021-06-28T06:51:22.271789Z",
     "shell.execute_reply": "2021-06-28T06:51:22.270688Z",
     "shell.execute_reply.started": "2021-06-27T22:12:28.714708Z"
    },
    "papermill": {
     "duration": 5.595089,
     "end_time": "2021-06-28T06:51:22.271973",
     "exception": false,
     "start_time": "2021-06-28T06:51:16.676884",
     "status": "completed"
    },
    "tags": []
   },
   "outputs": [],
   "source": [
    "import pandas as pd\n",
    "import numpy as np \n",
    "import os \n",
    "import cv2 as cv\n",
    "import tensorflow as tf\n",
    "from tensorflow.keras.utils import Sequence\n",
    "from sklearn.preprocessing import LabelEncoder\n",
    "from sklearn.model_selection import train_test_split"
   ]
  },
  {
   "cell_type": "code",
   "execution_count": 2,
   "id": "dietary-sampling",
   "metadata": {
    "execution": {
     "iopub.execute_input": "2021-06-28T06:51:22.303370Z",
     "iopub.status.busy": "2021-06-28T06:51:22.302726Z",
     "iopub.status.idle": "2021-06-28T06:51:22.311818Z",
     "shell.execute_reply": "2021-06-28T06:51:22.312462Z",
     "shell.execute_reply.started": "2021-06-27T22:12:37.519047Z"
    },
    "papermill": {
     "duration": 0.02773,
     "end_time": "2021-06-28T06:51:22.312649",
     "exception": false,
     "start_time": "2021-06-28T06:51:22.284919",
     "status": "completed"
    },
    "tags": []
   },
   "outputs": [
    {
     "name": "stdout",
     "output_type": "stream",
     "text": [
      "REPLICAS:  1\n"
     ]
    }
   ],
   "source": [
    "try:\n",
    "    # TPU detection. No parameters necessary if TPU_NAME environment variable is\n",
    "    # set: this is always the case on Kaggle.\n",
    "    tpu = tf.distribute.cluster_resolver.TPUClusterResolver()\n",
    "    print('Running on TPU ', tpu.master())\n",
    "except ValueError:\n",
    "    tpu = None\n",
    "\n",
    "if tpu:\n",
    "    tf.config.experimental_connect_to_cluster(tpu)\n",
    "    tf.tpu.experimental.initialize_tpu_system(tpu)\n",
    "    strategy = tf.distribute.TPUStrategy(tpu)\n",
    "else:\n",
    "    # Default distribution strategy in Tensorflow. Works on CPU and single GPU.\n",
    "    strategy = tf.distribute.get_strategy()\n",
    "\n",
    "print(\"REPLICAS: \", strategy.num_replicas_in_sync)"
   ]
  },
  {
   "cell_type": "code",
   "execution_count": 3,
   "id": "gorgeous-institute",
   "metadata": {
    "execution": {
     "iopub.execute_input": "2021-06-28T06:51:22.343920Z",
     "iopub.status.busy": "2021-06-28T06:51:22.342558Z",
     "iopub.status.idle": "2021-06-28T06:51:22.345035Z",
     "shell.execute_reply": "2021-06-28T06:51:22.345436Z",
     "shell.execute_reply.started": "2021-06-27T22:12:43.588699Z"
    },
    "papermill": {
     "duration": 0.019332,
     "end_time": "2021-06-28T06:51:22.345562",
     "exception": false,
     "start_time": "2021-06-28T06:51:22.326230",
     "status": "completed"
    },
    "tags": []
   },
   "outputs": [],
   "source": [
    "Batch_size = 8 * strategy.num_replicas_in_sync"
   ]
  },
  {
   "cell_type": "code",
   "execution_count": 4,
   "id": "funny-childhood",
   "metadata": {
    "execution": {
     "iopub.execute_input": "2021-06-28T06:51:22.375029Z",
     "iopub.status.busy": "2021-06-28T06:51:22.374406Z",
     "iopub.status.idle": "2021-06-28T06:51:53.463158Z",
     "shell.execute_reply": "2021-06-28T06:51:53.462685Z",
     "shell.execute_reply.started": "2021-06-27T22:12:46.774152Z"
    },
    "papermill": {
     "duration": 31.104917,
     "end_time": "2021-06-28T06:51:53.463291",
     "exception": false,
     "start_time": "2021-06-28T06:51:22.358374",
     "status": "completed"
    },
    "tags": []
   },
   "outputs": [],
   "source": [
    "model = tf.keras.models.load_model(\"../input/arcface-training-images/model\")"
   ]
  },
  {
   "cell_type": "code",
   "execution_count": 5,
   "id": "sapphire-macintosh",
   "metadata": {
    "execution": {
     "iopub.execute_input": "2021-06-28T06:51:53.493932Z",
     "iopub.status.busy": "2021-06-28T06:51:53.493300Z",
     "iopub.status.idle": "2021-06-28T06:51:53.665122Z",
     "shell.execute_reply": "2021-06-28T06:51:53.664603Z",
     "shell.execute_reply.started": "2021-06-27T22:13:14.752332Z"
    },
    "papermill": {
     "duration": 0.189375,
     "end_time": "2021-06-28T06:51:53.665253",
     "exception": false,
     "start_time": "2021-06-28T06:51:53.475878",
     "status": "completed"
    },
    "tags": []
   },
   "outputs": [],
   "source": [
    "test = pd.read_csv(\"../input/shopee-product-matching/train.csv\")"
   ]
  },
  {
   "cell_type": "code",
   "execution_count": 6,
   "id": "infrared-pitch",
   "metadata": {
    "execution": {
     "iopub.execute_input": "2021-06-28T06:51:53.694097Z",
     "iopub.status.busy": "2021-06-28T06:51:53.693468Z",
     "iopub.status.idle": "2021-06-28T06:51:53.697380Z",
     "shell.execute_reply": "2021-06-28T06:51:53.696983Z",
     "shell.execute_reply.started": "2021-06-27T22:13:14.910400Z"
    },
    "papermill": {
     "duration": 0.019238,
     "end_time": "2021-06-28T06:51:53.697517",
     "exception": false,
     "start_time": "2021-06-28T06:51:53.678279",
     "status": "completed"
    },
    "tags": []
   },
   "outputs": [],
   "source": [
    "images = \"../input/shopee-product-matching/train_images\""
   ]
  },
  {
   "cell_type": "code",
   "execution_count": 7,
   "id": "wanted-month",
   "metadata": {
    "execution": {
     "iopub.execute_input": "2021-06-28T06:51:53.729577Z",
     "iopub.status.busy": "2021-06-28T06:51:53.728789Z",
     "iopub.status.idle": "2021-06-28T06:51:53.736738Z",
     "shell.execute_reply": "2021-06-28T06:51:53.737127Z",
     "shell.execute_reply.started": "2021-06-27T22:13:14.919140Z"
    },
    "papermill": {
     "duration": 0.027267,
     "end_time": "2021-06-28T06:51:53.737255",
     "exception": false,
     "start_time": "2021-06-28T06:51:53.709988",
     "status": "completed"
    },
    "tags": []
   },
   "outputs": [],
   "source": [
    "lb = LabelEncoder()\n",
    "test[\"encoded_label_group\"] = lb.fit_transform(test[\"label_group\"])"
   ]
  },
  {
   "cell_type": "code",
   "execution_count": 8,
   "id": "practical-hughes",
   "metadata": {
    "execution": {
     "iopub.execute_input": "2021-06-28T06:51:53.773041Z",
     "iopub.status.busy": "2021-06-28T06:51:53.772478Z",
     "iopub.status.idle": "2021-06-28T06:51:53.781838Z",
     "shell.execute_reply": "2021-06-28T06:51:53.782254Z",
     "shell.execute_reply.started": "2021-06-27T22:13:14.936124Z"
    },
    "papermill": {
     "duration": 0.033007,
     "end_time": "2021-06-28T06:51:53.782375",
     "exception": false,
     "start_time": "2021-06-28T06:51:53.749368",
     "status": "completed"
    },
    "tags": []
   },
   "outputs": [
    {
     "data": {
      "text/html": [
       "<div>\n",
       "<style scoped>\n",
       "    .dataframe tbody tr th:only-of-type {\n",
       "        vertical-align: middle;\n",
       "    }\n",
       "\n",
       "    .dataframe tbody tr th {\n",
       "        vertical-align: top;\n",
       "    }\n",
       "\n",
       "    .dataframe thead th {\n",
       "        text-align: right;\n",
       "    }\n",
       "</style>\n",
       "<table border=\"1\" class=\"dataframe\">\n",
       "  <thead>\n",
       "    <tr style=\"text-align: right;\">\n",
       "      <th></th>\n",
       "      <th>posting_id</th>\n",
       "      <th>image</th>\n",
       "      <th>image_phash</th>\n",
       "      <th>title</th>\n",
       "      <th>label_group</th>\n",
       "      <th>encoded_label_group</th>\n",
       "    </tr>\n",
       "  </thead>\n",
       "  <tbody>\n",
       "    <tr>\n",
       "      <th>0</th>\n",
       "      <td>train_129225211</td>\n",
       "      <td>0000a68812bc7e98c42888dfb1c07da0.jpg</td>\n",
       "      <td>94974f937d4c2433</td>\n",
       "      <td>Paper Bag Victoria Secret</td>\n",
       "      <td>249114794</td>\n",
       "      <td>666</td>\n",
       "    </tr>\n",
       "    <tr>\n",
       "      <th>1</th>\n",
       "      <td>train_3386243561</td>\n",
       "      <td>00039780dfc94d01db8676fe789ecd05.jpg</td>\n",
       "      <td>af3f9460c2838f0f</td>\n",
       "      <td>Double Tape 3M VHB 12 mm x 4,5 m ORIGINAL / DO...</td>\n",
       "      <td>2937985045</td>\n",
       "      <td>7572</td>\n",
       "    </tr>\n",
       "    <tr>\n",
       "      <th>2</th>\n",
       "      <td>train_2288590299</td>\n",
       "      <td>000a190fdd715a2a36faed16e2c65df7.jpg</td>\n",
       "      <td>b94cb00ed3e50f78</td>\n",
       "      <td>Maling TTS Canned Pork Luncheon Meat 397 gr</td>\n",
       "      <td>2395904891</td>\n",
       "      <td>6172</td>\n",
       "    </tr>\n",
       "    <tr>\n",
       "      <th>3</th>\n",
       "      <td>train_2406599165</td>\n",
       "      <td>00117e4fc239b1b641ff08340b429633.jpg</td>\n",
       "      <td>8514fc58eafea283</td>\n",
       "      <td>Daster Batik Lengan pendek - Motif Acak / Camp...</td>\n",
       "      <td>4093212188</td>\n",
       "      <td>10509</td>\n",
       "    </tr>\n",
       "    <tr>\n",
       "      <th>4</th>\n",
       "      <td>train_3369186413</td>\n",
       "      <td>00136d1cf4edede0203f32f05f660588.jpg</td>\n",
       "      <td>a6f319f924ad708c</td>\n",
       "      <td>Nescafe \\xc3\\x89clair Latte 220ml</td>\n",
       "      <td>3648931069</td>\n",
       "      <td>9425</td>\n",
       "    </tr>\n",
       "  </tbody>\n",
       "</table>\n",
       "</div>"
      ],
      "text/plain": [
       "         posting_id                                 image       image_phash  \\\n",
       "0   train_129225211  0000a68812bc7e98c42888dfb1c07da0.jpg  94974f937d4c2433   \n",
       "1  train_3386243561  00039780dfc94d01db8676fe789ecd05.jpg  af3f9460c2838f0f   \n",
       "2  train_2288590299  000a190fdd715a2a36faed16e2c65df7.jpg  b94cb00ed3e50f78   \n",
       "3  train_2406599165  00117e4fc239b1b641ff08340b429633.jpg  8514fc58eafea283   \n",
       "4  train_3369186413  00136d1cf4edede0203f32f05f660588.jpg  a6f319f924ad708c   \n",
       "\n",
       "                                               title  label_group  \\\n",
       "0                          Paper Bag Victoria Secret    249114794   \n",
       "1  Double Tape 3M VHB 12 mm x 4,5 m ORIGINAL / DO...   2937985045   \n",
       "2        Maling TTS Canned Pork Luncheon Meat 397 gr   2395904891   \n",
       "3  Daster Batik Lengan pendek - Motif Acak / Camp...   4093212188   \n",
       "4                  Nescafe \\xc3\\x89clair Latte 220ml   3648931069   \n",
       "\n",
       "   encoded_label_group  \n",
       "0                  666  \n",
       "1                 7572  \n",
       "2                 6172  \n",
       "3                10509  \n",
       "4                 9425  "
      ]
     },
     "execution_count": 8,
     "metadata": {},
     "output_type": "execute_result"
    }
   ],
   "source": [
    "test.head()"
   ]
  },
  {
   "cell_type": "code",
   "execution_count": 9,
   "id": "hawaiian-burlington",
   "metadata": {
    "execution": {
     "iopub.execute_input": "2021-06-28T06:51:53.818703Z",
     "iopub.status.busy": "2021-06-28T06:51:53.817560Z",
     "iopub.status.idle": "2021-06-28T06:51:53.820327Z",
     "shell.execute_reply": "2021-06-28T06:51:53.819833Z",
     "shell.execute_reply.started": "2021-06-27T22:13:14.958921Z"
    },
    "papermill": {
     "duration": 0.025561,
     "end_time": "2021-06-28T06:51:53.820425",
     "exception": false,
     "start_time": "2021-06-28T06:51:53.794864",
     "status": "completed"
    },
    "tags": []
   },
   "outputs": [],
   "source": [
    "class Datagenerator(Sequence):\n",
    "    def __init__(self,df,path=images,img_size=512,batch_size=Batch_size,listID=None,\\\n",
    "                shuffle = True):\n",
    "        self.batch_size = batch_size\n",
    "        self.img_size = img_size \n",
    "        self.path = path \n",
    "        self.df = df \n",
    "        self.data = df.iloc[listID]\n",
    "        self.indices = self.data.index\n",
    "        self.shuffle = shuffle\n",
    "        self.on_epoch_end()\n",
    "    def __len__(self):\n",
    "        cls = len(self.data) // self.batch_size\n",
    "        cls += int((len(self.data) % self.batch_size) !=0)\n",
    "        return cls \n",
    "    def on_epoch_end(self):\n",
    "        if self.shuffle :\n",
    "            self.data = self.data.sample(frac=1,random_state=42).reset_index(drop=True)\n",
    "            self.indices = self.data.index\n",
    "    def __getitem__(self,ind):\n",
    "        dex = self.indices[ind * self.batch_size :(ind+1) * self.batch_size]\n",
    "        return self.__Generator(dex)\n",
    "    def __Generator(self,dex):\n",
    "        images = np.zeros((len(dex),self.img_size,self.img_size,3))\n",
    "        Y = np.zeros((len(dex)))\n",
    "        dff = self.data.iloc[dex]\n",
    "        for i ,(j,row) in enumerate(dff.iterrows()):\n",
    "            img = os.path.join(self.path,row.image)\n",
    "            img = cv.imread(img)\n",
    "            img = cv.resize(img,(self.img_size,self.img_size))\n",
    "            images[i,] = img \n",
    "            Y[i] = row.encoded_label_group \n",
    "        return (images,Y),Y\n",
    "            "
   ]
  },
  {
   "cell_type": "code",
   "execution_count": 10,
   "id": "seven-wages",
   "metadata": {
    "execution": {
     "iopub.execute_input": "2021-06-28T06:51:53.850173Z",
     "iopub.status.busy": "2021-06-28T06:51:53.849376Z",
     "iopub.status.idle": "2021-06-28T06:51:54.044025Z",
     "shell.execute_reply": "2021-06-28T06:51:54.043534Z",
     "shell.execute_reply.started": "2021-06-27T22:13:19.457752Z"
    },
    "papermill": {
     "duration": 0.211199,
     "end_time": "2021-06-28T06:51:54.044146",
     "exception": false,
     "start_time": "2021-06-28T06:51:53.832947",
     "status": "completed"
    },
    "tags": []
   },
   "outputs": [],
   "source": [
    "xtr,xts,ytr,yts = train_test_split(test,test[\"encoded_label_group\"].values,stratify=\\\n",
    "                                   test[\"encoded_label_group\"].values,test_size=0.33)"
   ]
  },
  {
   "cell_type": "code",
   "execution_count": 11,
   "id": "sharing-virginia",
   "metadata": {
    "execution": {
     "iopub.execute_input": "2021-06-28T06:51:54.074536Z",
     "iopub.status.busy": "2021-06-28T06:51:54.073315Z",
     "iopub.status.idle": "2021-06-28T06:51:54.075981Z",
     "shell.execute_reply": "2021-06-28T06:51:54.075575Z",
     "shell.execute_reply.started": "2021-06-27T22:13:22.436086Z"
    },
    "papermill": {
     "duration": 0.019094,
     "end_time": "2021-06-28T06:51:54.076098",
     "exception": false,
     "start_time": "2021-06-28T06:51:54.057004",
     "status": "completed"
    },
    "tags": []
   },
   "outputs": [],
   "source": [
    "indices_train = xtr.index\n",
    "indices_test = xts.index"
   ]
  },
  {
   "cell_type": "code",
   "execution_count": 12,
   "id": "enhanced-arctic",
   "metadata": {
    "execution": {
     "iopub.execute_input": "2021-06-28T06:51:54.105280Z",
     "iopub.status.busy": "2021-06-28T06:51:54.104394Z",
     "iopub.status.idle": "2021-06-28T06:51:54.121787Z",
     "shell.execute_reply": "2021-06-28T06:51:54.121370Z",
     "shell.execute_reply.started": "2021-06-27T22:13:28.821628Z"
    },
    "papermill": {
     "duration": 0.033273,
     "end_time": "2021-06-28T06:51:54.121914",
     "exception": false,
     "start_time": "2021-06-28T06:51:54.088641",
     "status": "completed"
    },
    "tags": []
   },
   "outputs": [],
   "source": [
    "train_data = Datagenerator(test,listID = indices_train)\n",
    "test_data = Datagenerator(test,listID=indices_test)"
   ]
  },
  {
   "cell_type": "code",
   "execution_count": 13,
   "id": "unavailable-integration",
   "metadata": {
    "execution": {
     "iopub.execute_input": "2021-06-28T06:51:54.166294Z",
     "iopub.status.busy": "2021-06-28T06:51:54.155910Z",
     "iopub.status.idle": "2021-06-28T06:51:54.198422Z",
     "shell.execute_reply": "2021-06-28T06:51:54.197938Z",
     "shell.execute_reply.started": "2021-06-27T22:13:31.452173Z"
    },
    "papermill": {
     "duration": 0.063827,
     "end_time": "2021-06-28T06:51:54.198539",
     "exception": false,
     "start_time": "2021-06-28T06:51:54.134712",
     "status": "completed"
    },
    "tags": []
   },
   "outputs": [
    {
     "name": "stdout",
     "output_type": "stream",
     "text": [
      "Model: \"model\"\n",
      "__________________________________________________________________________________________________\n",
      "Layer (type)                    Output Shape         Param #     Connected to                     \n",
      "==================================================================================================\n",
      "input_image (InputLayer)        [(None, 512, 512, 3) 0                                            \n",
      "__________________________________________________________________________________________________\n",
      "efficientnetb3 (Functional)     (None, 1536)         10783535    input_image[0][0]                \n",
      "__________________________________________________________________________________________________\n",
      "batch_normalization (BatchNorma (None, 1536)         6144        efficientnetb3[0][0]             \n",
      "__________________________________________________________________________________________________\n",
      "labels (InputLayer)             [(None,)]            0                                            \n",
      "__________________________________________________________________________________________________\n",
      "head/arc_margin (ArcMarginProdu (None, 11014)        16917504    batch_normalization[0][0]        \n",
      "                                                                 labels[0][0]                     \n",
      "__________________________________________________________________________________________________\n",
      "softmax (Softmax)               (None, 11014)        0           head/arc_margin[0][0]            \n",
      "==================================================================================================\n",
      "Total params: 27,707,183\n",
      "Trainable params: 27,616,808\n",
      "Non-trainable params: 90,375\n",
      "__________________________________________________________________________________________________\n"
     ]
    }
   ],
   "source": [
    "model.summary()"
   ]
  },
  {
   "cell_type": "code",
   "execution_count": 14,
   "id": "opposite-module",
   "metadata": {
    "execution": {
     "iopub.execute_input": "2021-06-28T06:51:54.233464Z",
     "iopub.status.busy": "2021-06-28T06:51:54.232972Z",
     "iopub.status.idle": "2021-06-28T14:00:54.146829Z",
     "shell.execute_reply": "2021-06-28T14:00:54.146213Z",
     "shell.execute_reply.started": "2021-06-27T22:17:22.572982Z"
    },
    "papermill": {
     "duration": 25739.935389,
     "end_time": "2021-06-28T14:00:54.146998",
     "exception": false,
     "start_time": "2021-06-28T06:51:54.211609",
     "status": "completed"
    },
    "tags": []
   },
   "outputs": [
    {
     "name": "stdout",
     "output_type": "stream",
     "text": [
      "Epoch 1/14\n",
      "2869/2869 [==============================] - 1905s 658ms/step - loss: 11.6499 - accuracy: 0.1723 - val_loss: 11.2444 - val_accuracy: 0.1959\n",
      "Epoch 2/14\n",
      "2869/2869 [==============================] - 1824s 636ms/step - loss: 11.4593 - accuracy: 0.1813 - val_loss: 11.1911 - val_accuracy: 0.1996\n",
      "Epoch 3/14\n",
      "2869/2869 [==============================] - 1835s 640ms/step - loss: 11.2628 - accuracy: 0.1847 - val_loss: 11.1274 - val_accuracy: 0.2011\n",
      "Epoch 4/14\n",
      "2869/2869 [==============================] - 1827s 637ms/step - loss: 11.0792 - accuracy: 0.1899 - val_loss: 11.0599 - val_accuracy: 0.2036\n",
      "Epoch 5/14\n",
      "2869/2869 [==============================] - 1835s 639ms/step - loss: 10.8887 - accuracy: 0.1964 - val_loss: 10.9965 - val_accuracy: 0.2066\n",
      "Epoch 6/14\n",
      "2869/2869 [==============================] - 1835s 640ms/step - loss: 10.7119 - accuracy: 0.2027 - val_loss: 10.9293 - val_accuracy: 0.2106\n",
      "Epoch 7/14\n",
      "2869/2869 [==============================] - 1824s 636ms/step - loss: 10.5371 - accuracy: 0.2087 - val_loss: 10.8733 - val_accuracy: 0.2131\n",
      "Epoch 8/14\n",
      "2869/2869 [==============================] - 1835s 640ms/step - loss: 10.3794 - accuracy: 0.2137 - val_loss: 10.8025 - val_accuracy: 0.2168\n",
      "Epoch 9/14\n",
      "2869/2869 [==============================] - 1827s 637ms/step - loss: 10.2089 - accuracy: 0.2171 - val_loss: 10.7354 - val_accuracy: 0.2210\n",
      "Epoch 10/14\n",
      "2869/2869 [==============================] - 1834s 639ms/step - loss: 10.0282 - accuracy: 0.2246 - val_loss: 10.6829 - val_accuracy: 0.2251\n",
      "Epoch 11/14\n",
      "2869/2869 [==============================] - 1831s 638ms/step - loss: 9.8759 - accuracy: 0.2306 - val_loss: 10.6194 - val_accuracy: 0.2300\n",
      "Epoch 12/14\n",
      "2869/2869 [==============================] - 1847s 644ms/step - loss: 9.7222 - accuracy: 0.2353 - val_loss: 10.5687 - val_accuracy: 0.2340\n",
      "Epoch 13/14\n",
      "2869/2869 [==============================] - 1834s 639ms/step - loss: 9.5558 - accuracy: 0.2408 - val_loss: 10.5133 - val_accuracy: 0.2374\n",
      "Epoch 14/14\n",
      "2869/2869 [==============================] - 1836s 640ms/step - loss: 9.4012 - accuracy: 0.2476 - val_loss: 10.4523 - val_accuracy: 0.2411\n"
     ]
    },
    {
     "data": {
      "text/plain": [
       "<tensorflow.python.keras.callbacks.History at 0x7fa780f150d0>"
      ]
     },
     "execution_count": 14,
     "metadata": {},
     "output_type": "execute_result"
    }
   ],
   "source": [
    "model.fit(train_data,validation_data=test_data,epochs=14)"
   ]
  },
  {
   "cell_type": "code",
   "execution_count": 15,
   "id": "bottom-opportunity",
   "metadata": {
    "execution": {
     "iopub.execute_input": "2021-06-28T14:01:15.804520Z",
     "iopub.status.busy": "2021-06-28T14:01:15.803653Z",
     "iopub.status.idle": "2021-06-28T14:01:15.805872Z",
     "shell.execute_reply": "2021-06-28T14:01:15.806235Z",
     "shell.execute_reply.started": "2021-06-28T05:24:00.242550Z"
    },
    "papermill": {
     "duration": 11.04205,
     "end_time": "2021-06-28T14:01:15.806370",
     "exception": false,
     "start_time": "2021-06-28T14:01:04.764320",
     "status": "completed"
    },
    "tags": []
   },
   "outputs": [],
   "source": [
    "def get_layer_index(model, layer_name, not_found=None):\n",
    "    \"\"\"get model's layer index by layer's name\"\"\"\n",
    "    for i, layer in enumerate(model.layers):\n",
    "        if layer.name == layer_name:\n",
    "            return i\n",
    "    return not_found"
   ]
  },
  {
   "cell_type": "code",
   "execution_count": 16,
   "id": "brutal-explanation",
   "metadata": {
    "execution": {
     "iopub.execute_input": "2021-06-28T14:01:37.094950Z",
     "iopub.status.busy": "2021-06-28T14:01:37.094129Z",
     "iopub.status.idle": "2021-06-28T14:01:37.098490Z",
     "shell.execute_reply": "2021-06-28T14:01:37.098096Z",
     "shell.execute_reply.started": "2021-06-28T05:24:00.251070Z"
    },
    "papermill": {
     "duration": 10.731425,
     "end_time": "2021-06-28T14:01:37.098603",
     "exception": false,
     "start_time": "2021-06-28T14:01:26.367178",
     "status": "completed"
    },
    "tags": []
   },
   "outputs": [],
   "source": [
    "md = tf.keras.models.Model(inputs=model.layers[0].input, outputs=model.layers[2].input)"
   ]
  },
  {
   "cell_type": "code",
   "execution_count": 17,
   "id": "suspended-noise",
   "metadata": {
    "execution": {
     "iopub.execute_input": "2021-06-28T14:01:58.765573Z",
     "iopub.status.busy": "2021-06-28T14:01:58.764731Z",
     "iopub.status.idle": "2021-06-28T14:02:54.152761Z",
     "shell.execute_reply": "2021-06-28T14:02:54.152149Z",
     "shell.execute_reply.started": "2021-06-28T05:24:00.263976Z"
    },
    "papermill": {
     "duration": 66.017415,
     "end_time": "2021-06-28T14:02:54.152931",
     "exception": false,
     "start_time": "2021-06-28T14:01:48.135516",
     "status": "completed"
    },
    "tags": []
   },
   "outputs": [],
   "source": [
    "md.save(\"embadding_arcface\")"
   ]
  }
 ],
 "metadata": {
  "kernelspec": {
   "display_name": "Python 3",
   "language": "python",
   "name": "python3"
  },
  "language_info": {
   "codemirror_mode": {
    "name": "ipython",
    "version": 3
   },
   "file_extension": ".py",
   "mimetype": "text/x-python",
   "name": "python",
   "nbconvert_exporter": "python",
   "pygments_lexer": "ipython3",
   "version": "3.7.10"
  },
  "papermill": {
   "default_parameters": {},
   "duration": 25918.380614,
   "end_time": "2021-06-28T14:03:08.341107",
   "environment_variables": {},
   "exception": null,
   "input_path": "__notebook__.ipynb",
   "output_path": "__notebook__.ipynb",
   "parameters": {},
   "start_time": "2021-06-28T06:51:09.960493",
   "version": "2.3.3"
  }
 },
 "nbformat": 4,
 "nbformat_minor": 5
}
