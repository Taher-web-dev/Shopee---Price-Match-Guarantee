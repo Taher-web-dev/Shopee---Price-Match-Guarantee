{
 "cells": [
  {
   "cell_type": "code",
   "execution_count": 1,
   "id": "contemporary-guide",
   "metadata": {
    "execution": {
     "iopub.execute_input": "2021-06-29T21:41:23.477473Z",
     "iopub.status.busy": "2021-06-29T21:41:23.476863Z",
     "iopub.status.idle": "2021-06-29T21:41:35.281550Z",
     "shell.execute_reply": "2021-06-29T21:41:35.280974Z",
     "shell.execute_reply.started": "2021-06-29T20:49:28.390091Z"
    },
    "papermill": {
     "duration": 11.881021,
     "end_time": "2021-06-29T21:41:35.281736",
     "exception": false,
     "start_time": "2021-06-29T21:41:23.400715",
     "status": "completed"
    },
    "tags": []
   },
   "outputs": [],
   "source": [
    "import numpy as np \n",
    "import pandas as pd \n",
    "import tensorflow as tf \n",
    "from tensorflow.keras.utils import Sequence\n",
    "from sklearn.preprocessing import LabelEncoder\n",
    "from sklearn.model_selection import train_test_split\n",
    "import math\n",
    "import os \n",
    "import cv2 as cv\n",
    "import gc \n",
    "from tqdm import tqdm \n",
    "import tensorflow_hub as hub \n",
    "#import shutil\n",
    "#shutil.copy(src=\"../input/tokenization/tokenization.py\",dst=\"./\")\n",
    "#import tokenization\n",
    "from transformers import TFBertModel,BertTokenizer\n",
    "import re \n",
    "import string\n",
    "from cuml import NearestNeighbors\n",
    "import cupy\n",
    "from tensorflow.keras.applications import EfficientNetB3"
   ]
  },
  {
   "cell_type": "code",
   "execution_count": 2,
   "id": "concrete-bangladesh",
   "metadata": {
    "execution": {
     "iopub.execute_input": "2021-06-29T21:41:35.357034Z",
     "iopub.status.busy": "2021-06-29T21:41:35.356083Z",
     "iopub.status.idle": "2021-06-29T21:41:35.358822Z",
     "shell.execute_reply": "2021-06-29T21:41:35.358348Z",
     "shell.execute_reply.started": "2021-06-29T20:49:39.913952Z"
    },
    "papermill": {
     "duration": 0.043207,
     "end_time": "2021-06-29T21:41:35.358948",
     "exception": false,
     "start_time": "2021-06-29T21:41:35.315741",
     "status": "completed"
    },
    "tags": []
   },
   "outputs": [],
   "source": [
    "def getMetric(col):\n",
    "    def f1score(row):\n",
    "        n = len( np.intersect1d(row.target,row[col]) )\n",
    "        return 2*n / (len(row.target)+len(row[col]))\n",
    "    return f1score"
   ]
  },
  {
   "cell_type": "code",
   "execution_count": 3,
   "id": "built-highway",
   "metadata": {
    "execution": {
     "iopub.execute_input": "2021-06-29T21:41:35.438480Z",
     "iopub.status.busy": "2021-06-29T21:41:35.437564Z",
     "iopub.status.idle": "2021-06-29T21:41:35.440375Z",
     "shell.execute_reply": "2021-06-29T21:41:35.439964Z",
     "shell.execute_reply.started": "2021-06-29T20:49:39.923177Z"
    },
    "papermill": {
     "duration": 0.043502,
     "end_time": "2021-06-29T21:41:35.440490",
     "exception": false,
     "start_time": "2021-06-29T21:41:35.396988",
     "status": "completed"
    },
    "tags": []
   },
   "outputs": [],
   "source": [
    "def sub_matches(col):\n",
    "    def matches(row):\n",
    "       return  \" \".join(row[col])\n",
    "    return matches"
   ]
  },
  {
   "cell_type": "code",
   "execution_count": 4,
   "id": "fantastic-greenhouse",
   "metadata": {
    "execution": {
     "iopub.execute_input": "2021-06-29T21:41:35.514912Z",
     "iopub.status.busy": "2021-06-29T21:41:35.514062Z",
     "iopub.status.idle": "2021-06-29T21:41:35.516684Z",
     "shell.execute_reply": "2021-06-29T21:41:35.516265Z",
     "shell.execute_reply.started": "2021-06-29T20:49:39.931981Z"
    },
    "papermill": {
     "duration": 0.04114,
     "end_time": "2021-06-29T21:41:35.516801",
     "exception": false,
     "start_time": "2021-06-29T21:41:35.475661",
     "status": "completed"
    },
    "tags": []
   },
   "outputs": [],
   "source": [
    "def combine(*features) :\n",
    "    def concat(row):\n",
    "        combinaisons = np.concatenate([row[f] for f in features])\n",
    "        combinaisons = np.unique(combinaisons)\n",
    "        return combinaisons\n",
    "    return concat "
   ]
  },
  {
   "cell_type": "code",
   "execution_count": 5,
   "id": "hearing-tennessee",
   "metadata": {
    "execution": {
     "iopub.execute_input": "2021-06-29T21:41:35.596482Z",
     "iopub.status.busy": "2021-06-29T21:41:35.595485Z",
     "iopub.status.idle": "2021-06-29T21:41:35.597794Z",
     "shell.execute_reply": "2021-06-29T21:41:35.598301Z",
     "shell.execute_reply.started": "2021-06-29T20:49:39.940333Z"
    },
    "papermill": {
     "duration": 0.046675,
     "end_time": "2021-06-29T21:41:35.598460",
     "exception": false,
     "start_time": "2021-06-29T21:41:35.551785",
     "status": "completed"
    },
    "tags": []
   },
   "outputs": [],
   "source": [
    "def clean_title(tx):\n",
    "    tx = tx.lower()\n",
    "    tx = re.sub(r\"\\\\(\\w)+(\\d)+\",\" \",tx)\n",
    "    #tx = re.sub(r\"[\\\\/-+_*[]()]\",\" \",tx)\n",
    "    tx = re.sub(r\"(\\d+),(\\d+)\",r\"\\1.\\2\",tx)\n",
    "    for p in string.punctuation :\n",
    "        if p !=\".\" :\n",
    "          tx=tx.replace(p,\" \")\n",
    "    tx = re.sub(r\"\\s+\",\" \",tx)\n",
    "    \n",
    "    return tx"
   ]
  },
  {
   "cell_type": "code",
   "execution_count": 6,
   "id": "forbidden-category",
   "metadata": {
    "execution": {
     "iopub.execute_input": "2021-06-29T21:41:35.675826Z",
     "iopub.status.busy": "2021-06-29T21:41:35.675261Z",
     "iopub.status.idle": "2021-06-29T21:41:35.870924Z",
     "shell.execute_reply": "2021-06-29T21:41:35.869866Z",
     "shell.execute_reply.started": "2021-06-29T20:49:39.949469Z"
    },
    "papermill": {
     "duration": 0.23672,
     "end_time": "2021-06-29T21:41:35.871081",
     "exception": false,
     "start_time": "2021-06-29T21:41:35.634361",
     "status": "completed"
    },
    "tags": []
   },
   "outputs": [],
   "source": [
    "submission = False \n",
    "test = pd.read_csv(\"../input/shopee-product-matching/test.csv\")\n",
    "images = \"../input/shopee-product-matching/test_images\"\n",
    "if len(test) <=3 :\n",
    "    test = pd.read_csv(\"../input/shopee-product-matching/train.csv\")\n",
    "    images = \"../input/shopee-product-matching/train_images\"\n",
    "    submission=True\n"
   ]
  },
  {
   "cell_type": "code",
   "execution_count": 7,
   "id": "lonely-keyboard",
   "metadata": {
    "execution": {
     "iopub.execute_input": "2021-06-29T21:41:35.954688Z",
     "iopub.status.busy": "2021-06-29T21:41:35.953840Z",
     "iopub.status.idle": "2021-06-29T21:41:36.672125Z",
     "shell.execute_reply": "2021-06-29T21:41:36.671633Z",
     "shell.execute_reply.started": "2021-06-29T20:49:40.171006Z"
    },
    "papermill": {
     "duration": 0.766165,
     "end_time": "2021-06-29T21:41:36.672296",
     "exception": false,
     "start_time": "2021-06-29T21:41:35.906131",
     "status": "completed"
    },
    "tags": []
   },
   "outputs": [],
   "source": [
    "lab = test.groupby(\"label_group\")[\"posting_id\"].agg(\"unique\")\n",
    "test[\"target\"] = test[\"label_group\"].map(lab)"
   ]
  },
  {
   "cell_type": "code",
   "execution_count": 8,
   "id": "median-description",
   "metadata": {
    "execution": {
     "iopub.execute_input": "2021-06-29T21:41:43.977767Z",
     "iopub.status.busy": "2021-06-29T21:41:43.975912Z",
     "iopub.status.idle": "2021-06-29T21:41:43.982661Z",
     "shell.execute_reply": "2021-06-29T21:41:43.982202Z",
     "shell.execute_reply.started": "2021-06-29T20:49:40.875291Z"
    },
    "papermill": {
     "duration": 7.274761,
     "end_time": "2021-06-29T21:41:43.982794",
     "exception": false,
     "start_time": "2021-06-29T21:41:36.708033",
     "status": "completed"
    },
    "tags": []
   },
   "outputs": [
    {
     "name": "stdout",
     "output_type": "stream",
     "text": [
      "We will restrict TensorFlow to max 4GB GPU RAM\n",
      "then RAPIDS can use 12GB GPU RAM\n"
     ]
    }
   ],
   "source": [
    "LIMIT = 4\n",
    "gpus = tf.config.experimental.list_physical_devices('GPU')\n",
    "if gpus :\n",
    "    try :\n",
    "       tf.config.experimental.set_virtual_device_configuration(gpus[0],\\\n",
    "                                                           [tf.config.experimental.VirtualDeviceConfiguration(memory_limit=1024*LIMIT)])\n",
    "       logical_gpus = tf.config.experimental.list_logical_devices(\"GPU\")\n",
    "    \n",
    "    except RuntimeError as e :\n",
    "       print(e)\n",
    "print('We will restrict TensorFlow to max %iGB GPU RAM'%LIMIT)\n",
    "print('then RAPIDS can use %iGB GPU RAM'%(16-LIMIT))"
   ]
  },
  {
   "cell_type": "markdown",
   "id": "desperate-toner",
   "metadata": {
    "papermill": {
     "duration": 0.038014,
     "end_time": "2021-06-29T21:41:44.058184",
     "exception": false,
     "start_time": "2021-06-29T21:41:44.020170",
     "status": "completed"
    },
    "tags": []
   },
   "source": [
    "# 1. Duplicated Images :"
   ]
  },
  {
   "cell_type": "code",
   "execution_count": 9,
   "id": "adequate-netscape",
   "metadata": {
    "execution": {
     "iopub.execute_input": "2021-06-29T21:41:44.144424Z",
     "iopub.status.busy": "2021-06-29T21:41:44.143335Z",
     "iopub.status.idle": "2021-06-29T21:41:44.146673Z",
     "shell.execute_reply": "2021-06-29T21:41:44.146141Z",
     "shell.execute_reply.started": "2021-06-29T20:49:47.381993Z"
    },
    "papermill": {
     "duration": 0.053156,
     "end_time": "2021-06-29T21:41:44.146806",
     "exception": false,
     "start_time": "2021-06-29T21:41:44.093650",
     "status": "completed"
    },
    "tags": []
   },
   "outputs": [],
   "source": [
    "class DataGenerator(Sequence):\n",
    "    def __init__(self,df,path=images,batch_size=32,img_size=512):\n",
    "        self.img_size = img_size\n",
    "        self.batch_size = batch_size\n",
    "        self.path = path \n",
    "        self.df = df \n",
    "        self.ranges = np.arange(len(self.df))\n",
    "    def __len__(self):\n",
    "        cls = len(self.df) //(self.batch_size)\n",
    "        cls += int((len(self.df) % (self.batch_size)) != 0)\n",
    "        return cls \n",
    "    def __getitem__(self,index):\n",
    "        indices = self.ranges[index * self.batch_size:(index + 1) * self.batch_size]\n",
    "        return self.__generation(indices)\n",
    "    def __generation(self,indices) :\n",
    "        data = np.zeros((len(indices),self.img_size,self.img_size,3))\n",
    "        dff = self.df.iloc[indices]\n",
    "        for i , (j,row) in enumerate(dff.iterrows()):\n",
    "            img = row.image\n",
    "            img = os.path.join(self.path,img)\n",
    "            img = cv.imread(img)\n",
    "            img = cv.resize(img,(self.img_size,self.img_size))\n",
    "            data[i,] = img \n",
    "        return data "
   ]
  },
  {
   "cell_type": "code",
   "execution_count": 10,
   "id": "breeding-sellers",
   "metadata": {
    "execution": {
     "iopub.execute_input": "2021-06-29T21:41:44.227017Z",
     "iopub.status.busy": "2021-06-29T21:41:44.226392Z",
     "iopub.status.idle": "2021-06-29T21:42:06.513554Z",
     "shell.execute_reply": "2021-06-29T21:42:06.513014Z",
     "shell.execute_reply.started": "2021-06-29T20:49:47.397677Z"
    },
    "papermill": {
     "duration": 22.328596,
     "end_time": "2021-06-29T21:42:06.513716",
     "exception": false,
     "start_time": "2021-06-29T21:41:44.185120",
     "status": "completed"
    },
    "tags": []
   },
   "outputs": [],
   "source": [
    "model = tf.keras.models.load_model(\"../input/arc-face-training-part2/embadding_arcface/\")"
   ]
  },
  {
   "cell_type": "markdown",
   "id": "ongoing-instrument",
   "metadata": {
    "execution": {
     "iopub.execute_input": "2021-06-05T16:05:18.87191Z",
     "iopub.status.busy": "2021-06-05T16:05:18.87143Z",
     "iopub.status.idle": "2021-06-05T16:05:18.938964Z",
     "shell.execute_reply": "2021-06-05T16:05:18.937159Z",
     "shell.execute_reply.started": "2021-06-05T16:05:18.871851Z"
    },
    "papermill": {
     "duration": 0.036831,
     "end_time": "2021-06-29T21:42:06.588671",
     "exception": false,
     "start_time": "2021-06-29T21:42:06.551840",
     "status": "completed"
    },
    "tags": []
   },
   "source": [
    "model.summary()"
   ]
  },
  {
   "cell_type": "code",
   "execution_count": 11,
   "id": "supported-chuck",
   "metadata": {
    "execution": {
     "iopub.execute_input": "2021-06-29T21:42:06.668067Z",
     "iopub.status.busy": "2021-06-29T21:42:06.667126Z",
     "iopub.status.idle": "2021-06-29T21:42:06.671608Z",
     "shell.execute_reply": "2021-06-29T21:42:06.671025Z",
     "shell.execute_reply.started": "2021-06-29T20:50:08.620437Z"
    },
    "papermill": {
     "duration": 0.046348,
     "end_time": "2021-06-29T21:42:06.671741",
     "exception": false,
     "start_time": "2021-06-29T21:42:06.625393",
     "status": "completed"
    },
    "tags": []
   },
   "outputs": [],
   "source": [
    "#md = tf.keras.models.Model(inputs=model.layers[-3].input,outputs=model.layers[-3].output)"
   ]
  },
  {
   "cell_type": "markdown",
   "id": "royal-rings",
   "metadata": {
    "execution": {
     "iopub.execute_input": "2021-06-05T16:20:02.07954Z",
     "iopub.status.busy": "2021-06-05T16:20:02.078953Z",
     "iopub.status.idle": "2021-06-05T16:20:04.800138Z",
     "shell.execute_reply": "2021-06-05T16:20:04.799037Z",
     "shell.execute_reply.started": "2021-06-05T16:20:02.079478Z"
    },
    "papermill": {
     "duration": 0.03579,
     "end_time": "2021-06-29T21:42:06.745277",
     "exception": false,
     "start_time": "2021-06-29T21:42:06.709487",
     "status": "completed"
    },
    "tags": []
   },
   "source": [
    "model = EfficientNetB0(weights=\"imagenet\",input_shape=(512,512,3),\\\n",
    "                       include_top = False,pooling=\"avg\")"
   ]
  },
  {
   "cell_type": "code",
   "execution_count": 12,
   "id": "chemical-tolerance",
   "metadata": {
    "execution": {
     "iopub.execute_input": "2021-06-29T21:42:06.872657Z",
     "iopub.status.busy": "2021-06-29T21:42:06.857186Z",
     "iopub.status.idle": "2021-06-29T21:42:06.875960Z",
     "shell.execute_reply": "2021-06-29T21:42:06.876634Z",
     "shell.execute_reply.started": "2021-06-29T20:50:08.627999Z"
    },
    "papermill": {
     "duration": 0.095043,
     "end_time": "2021-06-29T21:42:06.876843",
     "exception": false,
     "start_time": "2021-06-29T21:42:06.781800",
     "status": "completed"
    },
    "tags": []
   },
   "outputs": [
    {
     "name": "stdout",
     "output_type": "stream",
     "text": [
      "Model: \"model\"\n",
      "_________________________________________________________________\n",
      "Layer (type)                 Output Shape              Param #   \n",
      "=================================================================\n",
      "input_image (InputLayer)     [(None, 512, 512, 3)]     0         \n",
      "_________________________________________________________________\n",
      "efficientnetb3 (Functional)  (None, 1536)              10783535  \n",
      "=================================================================\n",
      "Total params: 10,783,535\n",
      "Trainable params: 10,696,232\n",
      "Non-trainable params: 87,303\n",
      "_________________________________________________________________\n"
     ]
    }
   ],
   "source": [
    "model.summary()"
   ]
  },
  {
   "cell_type": "markdown",
   "id": "convenient-virus",
   "metadata": {
    "execution": {
     "iopub.execute_input": "2021-06-05T16:09:17.741599Z",
     "iopub.status.busy": "2021-06-05T16:09:17.741222Z",
     "iopub.status.idle": "2021-06-05T16:09:17.752687Z",
     "shell.execute_reply": "2021-06-05T16:09:17.751588Z",
     "shell.execute_reply.started": "2021-06-05T16:09:17.741566Z"
    },
    "papermill": {
     "duration": 0.037413,
     "end_time": "2021-06-29T21:42:06.955023",
     "exception": false,
     "start_time": "2021-06-29T21:42:06.917610",
     "status": "completed"
    },
    "tags": []
   },
   "source": [
    "model.output"
   ]
  },
  {
   "cell_type": "code",
   "execution_count": 13,
   "id": "legitimate-tribe",
   "metadata": {
    "execution": {
     "iopub.execute_input": "2021-06-29T21:42:07.038809Z",
     "iopub.status.busy": "2021-06-29T21:42:07.037865Z",
     "iopub.status.idle": "2021-06-29T22:17:16.486850Z",
     "shell.execute_reply": "2021-06-29T22:17:16.485056Z",
     "shell.execute_reply.started": "2021-06-29T20:50:08.682271Z"
    },
    "papermill": {
     "duration": 2109.495113,
     "end_time": "2021-06-29T22:17:16.486987",
     "exception": false,
     "start_time": "2021-06-29T21:42:06.991874",
     "status": "completed"
    },
    "tags": []
   },
   "outputs": [
    {
     "name": "stderr",
     "output_type": "stream",
     "text": [
      "100%|██████████| 134/134 [35:07<00:00, 15.73s/it]\n"
     ]
    },
    {
     "data": {
      "text/plain": [
       "130"
      ]
     },
     "execution_count": 13,
     "metadata": {},
     "output_type": "execute_result"
    }
   ],
   "source": [
    "#md = tf.keras.models.load_model(\"../input/arc-face-training-part2/embadding_arcface/\")\n",
    "md = model \n",
    "chunk = 256\n",
    "cls = len(test) // chunk \n",
    "cls += int((len(test) % chunk) !=0)\n",
    "embedding = []\n",
    "for i in tqdm(range(cls)):\n",
    "    a = i * chunk\n",
    "    b = min((i+1) * chunk ,len(test))\n",
    "    df = test.iloc[a:b,:]\n",
    "    dt = DataGenerator(df)\n",
    "    embedding.append(md.predict(dt,use_multiprocessing=True,workers = 4))\n",
    "del(md)\n",
    "img_embedding = np.concatenate(embedding,axis=0)\n",
    "gc.collect()"
   ]
  },
  {
   "cell_type": "code",
   "execution_count": 14,
   "id": "adopted-fossil",
   "metadata": {
    "execution": {
     "iopub.execute_input": "2021-06-29T22:17:17.162403Z",
     "iopub.status.busy": "2021-06-29T22:17:17.161521Z",
     "iopub.status.idle": "2021-06-29T22:17:17.196467Z",
     "shell.execute_reply": "2021-06-29T22:17:17.197738Z",
     "shell.execute_reply.started": "2021-06-29T21:22:43.694739Z"
    },
    "papermill": {
     "duration": 0.541932,
     "end_time": "2021-06-29T22:17:17.198073",
     "exception": false,
     "start_time": "2021-06-29T22:17:16.656141",
     "status": "completed"
    },
    "tags": []
   },
   "outputs": [],
   "source": [
    "from cuml.neighbors import NearestNeighbors\n",
    "import cupy \n",
    "duplicated_images = NearestNeighbors(n_neighbors=50,metric=\"cosine\")"
   ]
  },
  {
   "cell_type": "code",
   "execution_count": 15,
   "id": "extreme-medicine",
   "metadata": {
    "execution": {
     "iopub.execute_input": "2021-06-29T22:17:17.745893Z",
     "iopub.status.busy": "2021-06-29T22:17:17.744676Z",
     "iopub.status.idle": "2021-06-29T22:17:20.313621Z",
     "shell.execute_reply": "2021-06-29T22:17:20.314465Z",
     "shell.execute_reply.started": "2021-06-29T21:22:43.702892Z"
    },
    "papermill": {
     "duration": 2.915847,
     "end_time": "2021-06-29T22:17:20.314747",
     "exception": false,
     "start_time": "2021-06-29T22:17:17.398900",
     "status": "completed"
    },
    "tags": []
   },
   "outputs": [
    {
     "data": {
      "text/plain": [
       "NearestNeighbors(n_neighbors=50, verbose=4, handle=<cuml.raft.common.handle.Handle object at 0x7fc75366beb0>, algorithm='brute', metric='cosine', p=2, metric_params=None, output_type='numpy')"
      ]
     },
     "execution_count": 15,
     "metadata": {},
     "output_type": "execute_result"
    }
   ],
   "source": [
    "duplicated_images.fit(img_embedding)"
   ]
  },
  {
   "cell_type": "code",
   "execution_count": 16,
   "id": "adapted-deadline",
   "metadata": {
    "execution": {
     "iopub.execute_input": "2021-06-29T22:17:20.745171Z",
     "iopub.status.busy": "2021-06-29T22:17:20.744057Z",
     "iopub.status.idle": "2021-06-29T22:17:33.248661Z",
     "shell.execute_reply": "2021-06-29T22:17:33.249234Z",
     "shell.execute_reply.started": "2021-06-29T21:22:46.416888Z"
    },
    "papermill": {
     "duration": 12.768365,
     "end_time": "2021-06-29T22:17:33.249448",
     "exception": false,
     "start_time": "2021-06-29T22:17:20.481083",
     "status": "completed"
    },
    "tags": []
   },
   "outputs": [
    {
     "name": "stderr",
     "output_type": "stream",
     "text": [
      "100%|██████████| 9/9 [00:12<00:00,  1.37s/it]\n"
     ]
    }
   ],
   "source": [
    "pred = []\n",
    "chunk = 4 * 1024 \n",
    "cls = len(test) // chunk \n",
    "cls += int((len(test) % chunk) !=0)\n",
    "for i in tqdm(range(cls)) :\n",
    "    a = i * chunk \n",
    "    b = (i+1) * chunk \n",
    "    b = min(b,len(test))\n",
    "    distances,indices = duplicated_images.kneighbors(img_embedding[a:b,])\n",
    "    for j in range(b-a):\n",
    "        distance = distances[j,:]\n",
    "        ind = np.where(distance < 0.39)[0]\n",
    "        ind = indices[j,ind]\n",
    "        pred.append(test.iloc[ind].posting_id.values)"
   ]
  },
  {
   "cell_type": "code",
   "execution_count": 17,
   "id": "micro-automation",
   "metadata": {
    "execution": {
     "iopub.execute_input": "2021-06-29T22:17:33.413137Z",
     "iopub.status.busy": "2021-06-29T22:17:33.412123Z",
     "iopub.status.idle": "2021-06-29T22:17:33.415265Z",
     "shell.execute_reply": "2021-06-29T22:17:33.414799Z",
     "shell.execute_reply.started": "2021-06-29T21:22:59.826534Z"
    },
    "papermill": {
     "duration": 0.089348,
     "end_time": "2021-06-29T22:17:33.415380",
     "exception": false,
     "start_time": "2021-06-29T22:17:33.326032",
     "status": "completed"
    },
    "tags": []
   },
   "outputs": [],
   "source": [
    "test[\"pred_img\"] = pred"
   ]
  },
  {
   "cell_type": "code",
   "execution_count": 18,
   "id": "lesser-interim",
   "metadata": {
    "execution": {
     "iopub.execute_input": "2021-06-29T22:17:33.569981Z",
     "iopub.status.busy": "2021-06-29T22:17:33.569255Z",
     "iopub.status.idle": "2021-06-29T22:17:36.032783Z",
     "shell.execute_reply": "2021-06-29T22:17:36.032169Z",
     "shell.execute_reply.started": "2021-06-29T21:22:59.836328Z"
    },
    "papermill": {
     "duration": 2.541145,
     "end_time": "2021-06-29T22:17:36.032920",
     "exception": false,
     "start_time": "2021-06-29T22:17:33.491775",
     "status": "completed"
    },
    "tags": []
   },
   "outputs": [
    {
     "name": "stdout",
     "output_type": "stream",
     "text": [
      "CV score for tf embedding image = 0.7973066509928955\n"
     ]
    }
   ],
   "source": [
    "if submission :\n",
    "    \n",
    "    test[\"f2\"] = test.apply(getMetric(\"pred_img\"),axis=1)\n",
    "    \n",
    "    print('CV score for tf embedding image =',test.f2.mean())"
   ]
  },
  {
   "cell_type": "markdown",
   "id": "lonely-vermont",
   "metadata": {
    "papermill": {
     "duration": 0.074818,
     "end_time": "2021-06-29T22:17:36.187869",
     "exception": false,
     "start_time": "2021-06-29T22:17:36.113051",
     "status": "completed"
    },
    "tags": []
   },
   "source": [
    "# 2. Duplicated text :"
   ]
  },
  {
   "cell_type": "code",
   "execution_count": 19,
   "id": "english-module",
   "metadata": {
    "execution": {
     "iopub.execute_input": "2021-06-29T22:17:36.346028Z",
     "iopub.status.busy": "2021-06-29T22:17:36.345291Z",
     "iopub.status.idle": "2021-06-29T22:17:36.396990Z",
     "shell.execute_reply": "2021-06-29T22:17:36.396457Z",
     "shell.execute_reply.started": "2021-06-29T21:35:47.901249Z"
    },
    "papermill": {
     "duration": 0.13524,
     "end_time": "2021-06-29T22:17:36.397127",
     "exception": false,
     "start_time": "2021-06-29T22:17:36.261887",
     "status": "completed"
    },
    "tags": []
   },
   "outputs": [],
   "source": [
    "# \"cahya/bert-base-indonesian-522M\"\n",
    "tokenizer = BertTokenizer.from_pretrained(\"../input/indonesian-distilbert-finetuning-with-arcmargin/tokenizer/\")"
   ]
  },
  {
   "cell_type": "code",
   "execution_count": 20,
   "id": "heavy-continuity",
   "metadata": {
    "execution": {
     "iopub.execute_input": "2021-06-29T22:17:36.556146Z",
     "iopub.status.busy": "2021-06-29T22:17:36.555284Z",
     "iopub.status.idle": "2021-06-29T22:17:36.558013Z",
     "shell.execute_reply": "2021-06-29T22:17:36.557541Z",
     "shell.execute_reply.started": "2021-06-29T21:35:51.455711Z"
    },
    "papermill": {
     "duration": 0.087598,
     "end_time": "2021-06-29T22:17:36.558136",
     "exception": false,
     "start_time": "2021-06-29T22:17:36.470538",
     "status": "completed"
    },
    "tags": []
   },
   "outputs": [],
   "source": [
    "def encode (seq_title,tokenizer,max_seq):\n",
    "    all_tokens = []\n",
    "    #all_masks = [] \n",
    "    #all_segments = []\n",
    "    for  seq in seq_title :\n",
    "        #tokens = tokenizer.tokenize(seq)\n",
    "        #tokens = tokens[:max_seq-2]\n",
    "        #tokens = [\"[CLS]\"] + tokens + [\"[SEP]\"]\n",
    "        #tokens = tokenizer.convert_tokens_to_ids(tokens)\n",
    "        #masks = [1] * len(tokens) + [0] * (max_seq - len(tokens))\n",
    "        #segments = [1] * max_seq \n",
    "        #tokens = tokens + [0] * (max_seq - len(tokens))\n",
    "        all_tokens.append(tokenizer.encode_plus(seq,padding=\"max_length\",max_length=max_seq,\\\n",
    "                                               truncation=True).get(\"input_ids\"))\n",
    "        #all_masks.append(masks)\n",
    "        #all_segments.append(segments)\n",
    "        \n",
    "    return np.vstack(all_tokens)"
   ]
  },
  {
   "cell_type": "markdown",
   "id": "moral-debut",
   "metadata": {
    "execution": {
     "iopub.status.busy": "2021-05-29T15:04:28.426693Z",
     "iopub.status.idle": "2021-05-29T15:04:28.427304Z"
    },
    "papermill": {
     "duration": 0.076547,
     "end_time": "2021-06-29T22:17:36.708530",
     "exception": false,
     "start_time": "2021-06-29T22:17:36.631983",
     "status": "completed"
    },
    "tags": []
   },
   "source": [
    "bert_layer = hub.KerasLayer(\"../input/bert-en-uncased-l-12-h-768-a-12-1\",trainable=False)\n",
    "vocab_file = bert_layer.resolved_object.vocab_file.asset_path.numpy()\n",
    "do_lower_case = bert_layer.resolved_object.do_lower_case.numpy()\n",
    "tokenizer = tokenization.FullTokenizer(vocab_file,do_lower_case)"
   ]
  },
  {
   "cell_type": "code",
   "execution_count": 21,
   "id": "wireless-decrease",
   "metadata": {
    "execution": {
     "iopub.execute_input": "2021-06-29T22:17:36.867844Z",
     "iopub.status.busy": "2021-06-29T22:17:36.866994Z",
     "iopub.status.idle": "2021-06-29T22:17:36.869760Z",
     "shell.execute_reply": "2021-06-29T22:17:36.869328Z",
     "shell.execute_reply.started": "2021-06-29T21:36:08.300068Z"
    },
    "papermill": {
     "duration": 0.082512,
     "end_time": "2021-06-29T22:17:36.869886",
     "exception": false,
     "start_time": "2021-06-29T22:17:36.787374",
     "status": "completed"
    },
    "tags": []
   },
   "outputs": [],
   "source": [
    "max_len = 61 "
   ]
  },
  {
   "cell_type": "code",
   "execution_count": 22,
   "id": "stopped-solid",
   "metadata": {
    "execution": {
     "iopub.execute_input": "2021-06-29T22:17:37.051983Z",
     "iopub.status.busy": "2021-06-29T22:17:37.041691Z",
     "iopub.status.idle": "2021-06-29T22:17:38.099671Z",
     "shell.execute_reply": "2021-06-29T22:17:38.100788Z",
     "shell.execute_reply.started": "2021-06-29T21:36:11.055922Z"
    },
    "papermill": {
     "duration": 1.152305,
     "end_time": "2021-06-29T22:17:38.101086",
     "exception": false,
     "start_time": "2021-06-29T22:17:36.948781",
     "status": "completed"
    },
    "tags": []
   },
   "outputs": [],
   "source": [
    "test[\"cleaned_title\"] = test[\"title\"].map(clean_title)"
   ]
  },
  {
   "cell_type": "code",
   "execution_count": 23,
   "id": "official-bangladesh",
   "metadata": {
    "execution": {
     "iopub.execute_input": "2021-06-29T22:17:38.384935Z",
     "iopub.status.busy": "2021-06-29T22:17:38.383936Z",
     "iopub.status.idle": "2021-06-29T22:17:38.387345Z",
     "shell.execute_reply": "2021-06-29T22:17:38.386638Z"
    },
    "papermill": {
     "duration": 0.088843,
     "end_time": "2021-06-29T22:17:38.387483",
     "exception": false,
     "start_time": "2021-06-29T22:17:38.298640",
     "status": "completed"
    },
    "tags": []
   },
   "outputs": [],
   "source": [
    "#arc_face_bert = TFBertModel.from_pretrained(\"cahya/bert-base-indonesian-522M\")"
   ]
  },
  {
   "cell_type": "code",
   "execution_count": 24,
   "id": "encouraging-plumbing",
   "metadata": {
    "execution": {
     "iopub.execute_input": "2021-06-29T22:17:38.546606Z",
     "iopub.status.busy": "2021-06-29T22:17:38.546025Z",
     "iopub.status.idle": "2021-06-29T22:18:13.800491Z",
     "shell.execute_reply": "2021-06-29T22:18:13.799552Z",
     "shell.execute_reply.started": "2021-06-29T21:36:17.115597Z"
    },
    "papermill": {
     "duration": 35.335193,
     "end_time": "2021-06-29T22:18:13.800647",
     "exception": false,
     "start_time": "2021-06-29T22:17:38.465454",
     "status": "completed"
    },
    "tags": []
   },
   "outputs": [],
   "source": [
    "model_bert = tf.keras.models.load_model(\"../input/arc-face-training-bert-part1/model/\")"
   ]
  },
  {
   "cell_type": "code",
   "execution_count": 25,
   "id": "filled-going",
   "metadata": {
    "execution": {
     "iopub.execute_input": "2021-06-29T22:18:13.965647Z",
     "iopub.status.busy": "2021-06-29T22:18:13.964824Z",
     "iopub.status.idle": "2021-06-29T22:18:13.969818Z",
     "shell.execute_reply": "2021-06-29T22:18:13.969281Z",
     "shell.execute_reply.started": "2021-06-29T21:36:51.487573Z"
    },
    "papermill": {
     "duration": 0.093878,
     "end_time": "2021-06-29T22:18:13.969935",
     "exception": false,
     "start_time": "2021-06-29T22:18:13.876057",
     "status": "completed"
    },
    "tags": []
   },
   "outputs": [],
   "source": [
    "arc_face_bert = tf.keras.models.Model(inputs=model_bert.layers[1].input,outputs= model_bert.\\\n",
    "                                     layers[2].input)"
   ]
  },
  {
   "cell_type": "code",
   "execution_count": 26,
   "id": "waiting-ecuador",
   "metadata": {
    "execution": {
     "iopub.execute_input": "2021-06-29T22:18:14.179972Z",
     "iopub.status.busy": "2021-06-29T22:18:14.179171Z",
     "iopub.status.idle": "2021-06-29T22:19:51.960991Z",
     "shell.execute_reply": "2021-06-29T22:19:51.961416Z",
     "shell.execute_reply.started": "2021-06-29T21:36:51.499050Z"
    },
    "papermill": {
     "duration": 97.916055,
     "end_time": "2021-06-29T22:19:51.961621",
     "exception": false,
     "start_time": "2021-06-29T22:18:14.045566",
     "status": "completed"
    },
    "tags": []
   },
   "outputs": [
    {
     "name": "stderr",
     "output_type": "stream",
     "text": [
      "100%|██████████| 34/34 [01:36<00:00,  2.85s/it]\n"
     ]
    },
    {
     "data": {
      "text/plain": [
       "33268"
      ]
     },
     "execution_count": 26,
     "metadata": {},
     "output_type": "execute_result"
    }
   ],
   "source": [
    "# arc_face_bert = tf.keras.models.load_model(\"../input/arc-face-training-bert-part1/bert_embedding/\")\n",
    "chunk = 1024\n",
    "cls = len(test) // chunk \n",
    "cls += int((len(test) % chunk) !=0)\n",
    "embedding = []\n",
    "for i in tqdm(range(cls)) :\n",
    "    a = i * chunk \n",
    "    b = (i+1) * chunk \n",
    "    b = min(b,len(test))\n",
    "    seq = test.iloc[a:b].cleaned_title.values \n",
    "    all_tokens = encode(seq,tokenizer,max_len)\n",
    "    embedding.append(arc_face_bert.predict([all_tokens]))\n",
    "txt_embedding = np.concatenate(embedding,axis=0)\n",
    "del(arc_face_bert)\n",
    "gc.collect()"
   ]
  },
  {
   "cell_type": "code",
   "execution_count": 27,
   "id": "assisted-directive",
   "metadata": {
    "execution": {
     "iopub.execute_input": "2021-06-29T22:19:52.145961Z",
     "iopub.status.busy": "2021-06-29T22:19:52.144952Z",
     "iopub.status.idle": "2021-06-29T22:19:52.227151Z",
     "shell.execute_reply": "2021-06-29T22:19:52.226630Z",
     "shell.execute_reply.started": "2021-06-29T21:38:29.215190Z"
    },
    "papermill": {
     "duration": 0.180566,
     "end_time": "2021-06-29T22:19:52.227287",
     "exception": false,
     "start_time": "2021-06-29T22:19:52.046721",
     "status": "completed"
    },
    "tags": []
   },
   "outputs": [],
   "source": [
    "embedding = cupy.array(txt_embedding)"
   ]
  },
  {
   "cell_type": "code",
   "execution_count": 28,
   "id": "informal-primary",
   "metadata": {
    "execution": {
     "iopub.execute_input": "2021-06-29T22:19:52.412072Z",
     "iopub.status.busy": "2021-06-29T22:19:52.411468Z",
     "iopub.status.idle": "2021-06-29T22:19:52.419948Z",
     "shell.execute_reply": "2021-06-29T22:19:52.419498Z",
     "shell.execute_reply.started": "2021-06-29T21:38:29.301164Z"
    },
    "papermill": {
     "duration": 0.102421,
     "end_time": "2021-06-29T22:19:52.420056",
     "exception": false,
     "start_time": "2021-06-29T22:19:52.317635",
     "status": "completed"
    },
    "tags": []
   },
   "outputs": [
    {
     "data": {
      "text/plain": [
       "NearestNeighbors(n_neighbors=50, verbose=4, handle=<cuml.raft.common.handle.Handle object at 0x7fc74efbd1b0>, algorithm='brute', metric='euclidean', p=2, metric_params=None, output_type='cupy')"
      ]
     },
     "execution_count": 28,
     "metadata": {},
     "output_type": "execute_result"
    }
   ],
   "source": [
    "duplicated_text = NearestNeighbors(n_neighbors=50)\n",
    "duplicated_text.fit(embedding)"
   ]
  },
  {
   "cell_type": "code",
   "execution_count": 29,
   "id": "successful-disco",
   "metadata": {
    "execution": {
     "iopub.execute_input": "2021-06-29T22:19:52.607524Z",
     "iopub.status.busy": "2021-06-29T22:19:52.606719Z",
     "iopub.status.idle": "2021-06-29T22:20:27.984675Z",
     "shell.execute_reply": "2021-06-29T22:20:27.984146Z",
     "shell.execute_reply.started": "2021-06-29T21:38:29.315375Z"
    },
    "papermill": {
     "duration": 35.47416,
     "end_time": "2021-06-29T22:20:27.984803",
     "exception": false,
     "start_time": "2021-06-29T22:19:52.510643",
     "status": "completed"
    },
    "tags": []
   },
   "outputs": [
    {
     "name": "stderr",
     "output_type": "stream",
     "text": [
      "100%|██████████| 9/9 [00:35<00:00,  3.93s/it]\n"
     ]
    }
   ],
   "source": [
    "pred = []\n",
    "chunk = 1024 *4 \n",
    "cls = len(test) // chunk \n",
    "cls += int((len(test) % chunk) !=0)\n",
    "for i in tqdm(range(cls)):\n",
    "    a = i * chunk \n",
    "    b = (i+1) * chunk \n",
    "    b = min(b,len(test))\n",
    "    distances,indices = duplicated_text.kneighbors(embedding[a:b,])\n",
    "    for j in range(b-a) :\n",
    "        distance = distances[j,:]\n",
    "        ind = np.where(distance < 11)[0] # 0.1 for cos distance \n",
    "        indice = indices[j,ind]\n",
    "        pred.append(test.iloc[cupy.asnumpy(indice)].posting_id.values)"
   ]
  },
  {
   "cell_type": "code",
   "execution_count": 30,
   "id": "textile-sarah",
   "metadata": {
    "execution": {
     "iopub.execute_input": "2021-06-29T22:20:28.178745Z",
     "iopub.status.busy": "2021-06-29T22:20:28.177777Z",
     "iopub.status.idle": "2021-06-29T22:20:28.180849Z",
     "shell.execute_reply": "2021-06-29T22:20:28.180423Z",
     "shell.execute_reply.started": "2021-06-29T21:39:02.830669Z"
    },
    "papermill": {
     "duration": 0.100009,
     "end_time": "2021-06-29T22:20:28.180961",
     "exception": false,
     "start_time": "2021-06-29T22:20:28.080952",
     "status": "completed"
    },
    "tags": []
   },
   "outputs": [],
   "source": [
    "test[\"pred_text\"] = pred "
   ]
  },
  {
   "cell_type": "code",
   "execution_count": 31,
   "id": "permanent-parts",
   "metadata": {
    "execution": {
     "iopub.execute_input": "2021-06-29T22:20:28.370409Z",
     "iopub.status.busy": "2021-06-29T22:20:28.369639Z",
     "iopub.status.idle": "2021-06-29T22:20:30.865914Z",
     "shell.execute_reply": "2021-06-29T22:20:30.865473Z",
     "shell.execute_reply.started": "2021-06-29T21:39:02.843557Z"
    },
    "papermill": {
     "duration": 2.590286,
     "end_time": "2021-06-29T22:20:30.866037",
     "exception": false,
     "start_time": "2021-06-29T22:20:28.275751",
     "status": "completed"
    },
    "tags": []
   },
   "outputs": [
    {
     "name": "stdout",
     "output_type": "stream",
     "text": [
      "CV score for tf embedding text = 0.8400313095426022\n"
     ]
    }
   ],
   "source": [
    "if submission :\n",
    "    \n",
    "    test[\"f3\"] = test.apply(getMetric(\"pred_text\"),axis=1)\n",
    "    \n",
    "    print('CV score for tf embedding text =',test.f3.mean())"
   ]
  },
  {
   "cell_type": "markdown",
   "id": "introductory-acoustic",
   "metadata": {
    "papermill": {
     "duration": 0.09404,
     "end_time": "2021-06-29T22:20:31.055128",
     "exception": false,
     "start_time": "2021-06-29T22:20:30.961088",
     "status": "completed"
    },
    "tags": []
   },
   "source": [
    "# 3.Text embedding prediction  & image embedding prediction combinaison :"
   ]
  },
  {
   "cell_type": "code",
   "execution_count": 32,
   "id": "indie-wallace",
   "metadata": {
    "execution": {
     "iopub.execute_input": "2021-06-29T22:20:31.258177Z",
     "iopub.status.busy": "2021-06-29T22:20:31.257303Z",
     "iopub.status.idle": "2021-06-29T22:20:32.474003Z",
     "shell.execute_reply": "2021-06-29T22:20:32.473494Z",
     "shell.execute_reply.started": "2021-06-29T21:39:05.419657Z"
    },
    "papermill": {
     "duration": 1.313634,
     "end_time": "2021-06-29T22:20:32.474124",
     "exception": false,
     "start_time": "2021-06-29T22:20:31.160490",
     "status": "completed"
    },
    "tags": []
   },
   "outputs": [],
   "source": [
    "test[\"comb_text_im\"] = test.apply(combine(\"pred_text\",\"pred_img\"),axis=1)"
   ]
  },
  {
   "cell_type": "code",
   "execution_count": 33,
   "id": "respiratory-circulation",
   "metadata": {
    "execution": {
     "iopub.execute_input": "2021-06-29T22:20:32.663214Z",
     "iopub.status.busy": "2021-06-29T22:20:32.662357Z",
     "iopub.status.idle": "2021-06-29T22:20:35.221371Z",
     "shell.execute_reply": "2021-06-29T22:20:35.220533Z",
     "shell.execute_reply.started": "2021-06-29T21:39:06.606494Z"
    },
    "papermill": {
     "duration": 2.657422,
     "end_time": "2021-06-29T22:20:35.221511",
     "exception": false,
     "start_time": "2021-06-29T22:20:32.564089",
     "status": "completed"
    },
    "tags": []
   },
   "outputs": [
    {
     "name": "stdout",
     "output_type": "stream",
     "text": [
      "CV score for combinaisons = 0.8518491883980326\n"
     ]
    }
   ],
   "source": [
    "if submission :\n",
    "    \n",
    "    test[\"f0\"] = test.apply(getMetric(\"comb_text_im\"),axis=1)\n",
    "    \n",
    "    print('CV score for combinaisons =',test.f0.mean())"
   ]
  },
  {
   "cell_type": "markdown",
   "id": "charming-adapter",
   "metadata": {
    "papermill": {
     "duration": 0.089982,
     "end_time": "2021-06-29T22:20:35.405425",
     "exception": false,
     "start_time": "2021-06-29T22:20:35.315443",
     "status": "completed"
    },
    "tags": []
   },
   "source": [
    "# 4. Combinaisons between text embedding and image embedding :"
   ]
  },
  {
   "cell_type": "code",
   "execution_count": 34,
   "id": "fresh-alloy",
   "metadata": {
    "execution": {
     "iopub.execute_input": "2021-06-29T22:20:35.597989Z",
     "iopub.status.busy": "2021-06-29T22:20:35.596763Z",
     "iopub.status.idle": "2021-06-29T22:20:35.710070Z",
     "shell.execute_reply": "2021-06-29T22:20:35.709561Z",
     "shell.execute_reply.started": "2021-06-29T21:39:08.967918Z"
    },
    "papermill": {
     "duration": 0.209535,
     "end_time": "2021-06-29T22:20:35.710197",
     "exception": false,
     "start_time": "2021-06-29T22:20:35.500662",
     "status": "completed"
    },
    "tags": []
   },
   "outputs": [],
   "source": [
    "comb_embedding = np.concatenate([img_embedding,txt_embedding],axis=1)"
   ]
  },
  {
   "cell_type": "code",
   "execution_count": 35,
   "id": "registered-reception",
   "metadata": {
    "execution": {
     "iopub.execute_input": "2021-06-29T22:20:35.895267Z",
     "iopub.status.busy": "2021-06-29T22:20:35.894255Z",
     "iopub.status.idle": "2021-06-29T22:20:36.234603Z",
     "shell.execute_reply": "2021-06-29T22:20:36.235399Z",
     "shell.execute_reply.started": "2021-06-29T21:39:09.079020Z"
    },
    "papermill": {
     "duration": 0.435679,
     "end_time": "2021-06-29T22:20:36.235662",
     "exception": false,
     "start_time": "2021-06-29T22:20:35.799983",
     "status": "completed"
    },
    "tags": []
   },
   "outputs": [],
   "source": [
    "comb_embedding = cupy.array(comb_embedding)"
   ]
  },
  {
   "cell_type": "code",
   "execution_count": 36,
   "id": "incorrect-acoustic",
   "metadata": {
    "execution": {
     "iopub.execute_input": "2021-06-29T22:20:36.428239Z",
     "iopub.status.busy": "2021-06-29T22:20:36.427383Z",
     "iopub.status.idle": "2021-06-29T22:20:36.433163Z",
     "shell.execute_reply": "2021-06-29T22:20:36.433664Z",
     "shell.execute_reply.started": "2021-06-29T21:39:09.407090Z"
    },
    "papermill": {
     "duration": 0.103819,
     "end_time": "2021-06-29T22:20:36.433810",
     "exception": false,
     "start_time": "2021-06-29T22:20:36.329991",
     "status": "completed"
    },
    "tags": []
   },
   "outputs": [
    {
     "data": {
      "text/plain": [
       "NearestNeighbors(n_neighbors=50, verbose=4, handle=<cuml.raft.common.handle.Handle object at 0x7fc750df6c50>, algorithm='brute', metric='euclidean', p=2, metric_params=None, output_type='cupy')"
      ]
     },
     "execution_count": 36,
     "metadata": {},
     "output_type": "execute_result"
    }
   ],
   "source": [
    "combined_distance = NearestNeighbors(n_neighbors=50)\n",
    "combined_distance.fit(comb_embedding)"
   ]
  },
  {
   "cell_type": "code",
   "execution_count": 37,
   "id": "colored-technician",
   "metadata": {
    "execution": {
     "iopub.execute_input": "2021-06-29T22:20:36.624447Z",
     "iopub.status.busy": "2021-06-29T22:20:36.623618Z",
     "iopub.status.idle": "2021-06-29T22:21:08.054217Z",
     "shell.execute_reply": "2021-06-29T22:21:08.052821Z",
     "shell.execute_reply.started": "2021-06-29T21:39:09.433909Z"
    },
    "papermill": {
     "duration": 31.530176,
     "end_time": "2021-06-29T22:21:08.054371",
     "exception": false,
     "start_time": "2021-06-29T22:20:36.524195",
     "status": "completed"
    },
    "tags": []
   },
   "outputs": [
    {
     "name": "stderr",
     "output_type": "stream",
     "text": [
      "100%|██████████| 9/9 [00:31<00:00,  3.48s/it]\n"
     ]
    }
   ],
   "source": [
    "chunk = 4 * 1024 \n",
    "cls = len(test) // chunk \n",
    "cls += int((len(test) % chunk) !=0)\n",
    "prediction = []\n",
    "for i in tqdm(range(cls)):\n",
    "    a = i * chunk\n",
    "    b = (i+1) * chunk \n",
    "    b = min(b,len(test))\n",
    "    distances,indices = combined_distance.kneighbors(comb_embedding[a:b,])\n",
    "    for j in range(b-a) :\n",
    "        distance = distances[j,:]\n",
    "        ind = np.where(distance<12)[0]\n",
    "        ind = indices[j,ind]\n",
    "        ind = cupy.asnumpy(ind)\n",
    "        prediction.append(test.loc[ind,\"posting_id\"].values)\n",
    "        "
   ]
  },
  {
   "cell_type": "code",
   "execution_count": 38,
   "id": "liked-peter",
   "metadata": {
    "execution": {
     "iopub.execute_input": "2021-06-29T22:21:08.252211Z",
     "iopub.status.busy": "2021-06-29T22:21:08.251260Z",
     "iopub.status.idle": "2021-06-29T22:21:08.254071Z",
     "shell.execute_reply": "2021-06-29T22:21:08.253669Z",
     "shell.execute_reply.started": "2021-06-29T21:39:39.712912Z"
    },
    "papermill": {
     "duration": 0.101495,
     "end_time": "2021-06-29T22:21:08.254180",
     "exception": false,
     "start_time": "2021-06-29T22:21:08.152685",
     "status": "completed"
    },
    "tags": []
   },
   "outputs": [],
   "source": [
    "test[\"com_embedding\"] = prediction "
   ]
  },
  {
   "cell_type": "code",
   "execution_count": 39,
   "id": "boring-blocking",
   "metadata": {
    "execution": {
     "iopub.execute_input": "2021-06-29T22:21:08.450369Z",
     "iopub.status.busy": "2021-06-29T22:21:08.449496Z",
     "iopub.status.idle": "2021-06-29T22:21:11.175929Z",
     "shell.execute_reply": "2021-06-29T22:21:11.175162Z",
     "shell.execute_reply.started": "2021-06-29T21:39:39.723069Z"
    },
    "papermill": {
     "duration": 2.824106,
     "end_time": "2021-06-29T22:21:11.176053",
     "exception": false,
     "start_time": "2021-06-29T22:21:08.351947",
     "status": "completed"
    },
    "tags": []
   },
   "outputs": [
    {
     "name": "stdout",
     "output_type": "stream",
     "text": [
      "CV score for combinaisons = 0.8589025070965064\n"
     ]
    }
   ],
   "source": [
    "if submission :\n",
    "    \n",
    "    test[\"f4\"] = test.apply(getMetric(\"com_embedding\"),axis=1)\n",
    "    \n",
    "    print('CV score for combinaisons =',test.f4.mean())"
   ]
  },
  {
   "cell_type": "markdown",
   "id": "neither-produce",
   "metadata": {
    "papermill": {
     "duration": 0.09294,
     "end_time": "2021-06-29T22:21:11.366703",
     "exception": false,
     "start_time": "2021-06-29T22:21:11.273763",
     "status": "completed"
    },
    "tags": []
   },
   "source": [
    "# All combinaisons :"
   ]
  },
  {
   "cell_type": "code",
   "execution_count": 40,
   "id": "moderate-outline",
   "metadata": {
    "execution": {
     "iopub.execute_input": "2021-06-29T22:21:11.566472Z",
     "iopub.status.busy": "2021-06-29T22:21:11.565712Z",
     "iopub.status.idle": "2021-06-29T22:21:13.008724Z",
     "shell.execute_reply": "2021-06-29T22:21:13.008259Z",
     "shell.execute_reply.started": "2021-06-29T21:39:42.087065Z"
    },
    "papermill": {
     "duration": 1.545321,
     "end_time": "2021-06-29T22:21:13.008864",
     "exception": false,
     "start_time": "2021-06-29T22:21:11.463543",
     "status": "completed"
    },
    "tags": []
   },
   "outputs": [],
   "source": [
    "test[\"all_combinaisons\"] = test.apply(combine(\"pred_text\",\"pred_img\",\"com_embedding\"),axis=1)"
   ]
  },
  {
   "cell_type": "code",
   "execution_count": 41,
   "id": "documented-alert",
   "metadata": {
    "execution": {
     "iopub.execute_input": "2021-06-29T22:21:13.205264Z",
     "iopub.status.busy": "2021-06-29T22:21:13.204436Z",
     "iopub.status.idle": "2021-06-29T22:21:15.672657Z",
     "shell.execute_reply": "2021-06-29T22:21:15.671960Z",
     "shell.execute_reply.started": "2021-06-29T21:39:43.497553Z"
    },
    "papermill": {
     "duration": 2.568056,
     "end_time": "2021-06-29T22:21:15.672845",
     "exception": false,
     "start_time": "2021-06-29T22:21:13.104789",
     "status": "completed"
    },
    "tags": []
   },
   "outputs": [
    {
     "name": "stdout",
     "output_type": "stream",
     "text": [
      "CV score for combinaisons = 0.8518554143344446\n"
     ]
    }
   ],
   "source": [
    "if submission :\n",
    "    \n",
    "    test[\"f5\"] = test.apply(getMetric(\"all_combinaisons\"),axis=1)\n",
    "    \n",
    "    print('CV score for combinaisons =',test.f5.mean())"
   ]
  },
  {
   "cell_type": "markdown",
   "id": "spiritual-three",
   "metadata": {
    "papermill": {
     "duration": 0.095455,
     "end_time": "2021-06-29T22:21:15.861729",
     "exception": false,
     "start_time": "2021-06-29T22:21:15.766274",
     "status": "completed"
    },
    "tags": []
   },
   "source": [
    "# Submission:"
   ]
  },
  {
   "cell_type": "code",
   "execution_count": 42,
   "id": "external-plaza",
   "metadata": {
    "execution": {
     "iopub.execute_input": "2021-06-29T22:21:16.056041Z",
     "iopub.status.busy": "2021-06-29T22:21:16.055442Z",
     "iopub.status.idle": "2021-06-29T22:21:16.498693Z",
     "shell.execute_reply": "2021-06-29T22:21:16.498163Z",
     "shell.execute_reply.started": "2021-06-29T21:39:45.843784Z"
    },
    "papermill": {
     "duration": 0.545264,
     "end_time": "2021-06-29T22:21:16.498816",
     "exception": false,
     "start_time": "2021-06-29T22:21:15.953552",
     "status": "completed"
    },
    "tags": []
   },
   "outputs": [],
   "source": [
    "test[\"matches\"] = test.apply(sub_matches(\"com_embedding\"),axis=1)"
   ]
  },
  {
   "cell_type": "code",
   "execution_count": 43,
   "id": "federal-hughes",
   "metadata": {
    "execution": {
     "iopub.execute_input": "2021-06-29T22:21:16.693826Z",
     "iopub.status.busy": "2021-06-29T22:21:16.692926Z",
     "iopub.status.idle": "2021-06-29T22:21:16.975406Z",
     "shell.execute_reply": "2021-06-29T22:21:16.975837Z",
     "shell.execute_reply.started": "2021-06-29T21:39:46.269094Z"
    },
    "papermill": {
     "duration": 0.384213,
     "end_time": "2021-06-29T22:21:16.976018",
     "exception": false,
     "start_time": "2021-06-29T22:21:16.591805",
     "status": "completed"
    },
    "tags": []
   },
   "outputs": [
    {
     "data": {
      "text/html": [
       "<div>\n",
       "<style scoped>\n",
       "    .dataframe tbody tr th:only-of-type {\n",
       "        vertical-align: middle;\n",
       "    }\n",
       "\n",
       "    .dataframe tbody tr th {\n",
       "        vertical-align: top;\n",
       "    }\n",
       "\n",
       "    .dataframe thead th {\n",
       "        text-align: right;\n",
       "    }\n",
       "</style>\n",
       "<table border=\"1\" class=\"dataframe\">\n",
       "  <thead>\n",
       "    <tr style=\"text-align: right;\">\n",
       "      <th></th>\n",
       "      <th>posting_id</th>\n",
       "      <th>matches</th>\n",
       "    </tr>\n",
       "  </thead>\n",
       "  <tbody>\n",
       "    <tr>\n",
       "      <th>0</th>\n",
       "      <td>train_129225211</td>\n",
       "      <td>train_129225211 train_2278313361</td>\n",
       "    </tr>\n",
       "    <tr>\n",
       "      <th>1</th>\n",
       "      <td>train_3386243561</td>\n",
       "      <td>train_3386243561 train_3423213080</td>\n",
       "    </tr>\n",
       "    <tr>\n",
       "      <th>2</th>\n",
       "      <td>train_2288590299</td>\n",
       "      <td>train_2288590299 train_3803689425</td>\n",
       "    </tr>\n",
       "    <tr>\n",
       "      <th>3</th>\n",
       "      <td>train_2406599165</td>\n",
       "      <td>train_2406599165 train_3576714541 train_174495...</td>\n",
       "    </tr>\n",
       "    <tr>\n",
       "      <th>4</th>\n",
       "      <td>train_3369186413</td>\n",
       "      <td>train_3369186413 train_921438619</td>\n",
       "    </tr>\n",
       "  </tbody>\n",
       "</table>\n",
       "</div>"
      ],
      "text/plain": [
       "         posting_id                                            matches\n",
       "0   train_129225211                   train_129225211 train_2278313361\n",
       "1  train_3386243561                  train_3386243561 train_3423213080\n",
       "2  train_2288590299                  train_2288590299 train_3803689425\n",
       "3  train_2406599165  train_2406599165 train_3576714541 train_174495...\n",
       "4  train_3369186413                   train_3369186413 train_921438619"
      ]
     },
     "execution_count": 43,
     "metadata": {},
     "output_type": "execute_result"
    }
   ],
   "source": [
    "test[[\"posting_id\",\"matches\"]].to_csv(\"submission.csv\",index = False)\n",
    "sub = pd.read_csv('submission.csv')\n",
    "sub.head()"
   ]
  }
 ],
 "metadata": {
  "kernelspec": {
   "display_name": "Python 3",
   "language": "python",
   "name": "python3"
  },
  "language_info": {
   "codemirror_mode": {
    "name": "ipython",
    "version": 3
   },
   "file_extension": ".py",
   "mimetype": "text/x-python",
   "name": "python",
   "nbconvert_exporter": "python",
   "pygments_lexer": "ipython3",
   "version": "3.7.10"
  },
  "papermill": {
   "default_parameters": {},
   "duration": 2404.945342,
   "end_time": "2021-06-29T22:21:20.119936",
   "environment_variables": {},
   "exception": null,
   "input_path": "__notebook__.ipynb",
   "output_path": "__notebook__.ipynb",
   "parameters": {},
   "start_time": "2021-06-29T21:41:15.174594",
   "version": "2.3.3"
  }
 },
 "nbformat": 4,
 "nbformat_minor": 5
}
